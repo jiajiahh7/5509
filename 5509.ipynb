{
 "cells": [
  {
   "cell_type": "code",
   "execution_count": 1,
   "id": "eb33c96b",
   "metadata": {},
   "outputs": [],
   "source": [
    "import pandas as pd\n",
    "import matplotlib.pyplot as plt\n",
    "import numpy as np\n",
    "import math\n",
    "import seaborn as sns\n",
    "import statsmodels.formula.api as smf"
   ]
  },
  {
   "cell_type": "markdown",
   "id": "8d33a434",
   "metadata": {},
   "source": [
    "In modern society, air pollution is an important topic as this pollution exerts a critically bad influence on human health and the environment. Among air pollutants, Particulate Matter (PM2.5) consists of suspended particles with a diameter equal to or less than 2.5 µm. Sources of PM2.5 can be coal-fired power generation, smoke, or dust. These suspended particles in the air can damage the respiratory and cardiovascular systems of the human body, which may further lead to other diseases such as asthma, lung cancer, or cardiovascular diseases. Beijing is a cosmopolitan city with a population of more than 21.5 million, and Particulate Matter (PM) is one of the main factors that affect human health directly.\n",
    "\n",
    "I am going to study the Beijing PM2.5 data set, this is an open data resource in UCI ML data repository. I studied the changes of pm2.5 concentration from 2010 to 2014, and observed the changes of pm2.5 concentration through the whole year in different months. In this study, I want to figure out which features affect pm2.5 concentration most, I tried three methods to get the best predictors, which are a correlation matrix, selecting a predictor based on adjusted R squared in simple linear regression, and forward stepwise selection method. Then I analyze the interaction between those predictors. Finally, I compare the mean squared prediction error for different multi-linear models."
   ]
  },
  {
   "cell_type": "markdown",
   "id": "2e4e19f4",
   "metadata": {},
   "source": [
    "# Step1 Gather Data"
   ]
  },
  {
   "cell_type": "markdown",
   "id": "1ba54426",
   "metadata": {},
   "source": [
    "The dataset is from UCI ML data repository(https://archive.ics.uci.edu/ml/datasets/Beijing+PM2.5+Data). This hourly data set contains the PM2.5 data of US Embassy in Beijing. "
   ]
  },
  {
   "cell_type": "markdown",
   "id": "97e96ebe",
   "metadata": {},
   "source": [
    "## 1.1 Import data"
   ]
  },
  {
   "cell_type": "code",
   "execution_count": 119,
   "id": "35f405dd",
   "metadata": {},
   "outputs": [
    {
     "data": {
      "text/html": [
       "<div>\n",
       "<style scoped>\n",
       "    .dataframe tbody tr th:only-of-type {\n",
       "        vertical-align: middle;\n",
       "    }\n",
       "\n",
       "    .dataframe tbody tr th {\n",
       "        vertical-align: top;\n",
       "    }\n",
       "\n",
       "    .dataframe thead th {\n",
       "        text-align: right;\n",
       "    }\n",
       "</style>\n",
       "<table border=\"1\" class=\"dataframe\">\n",
       "  <thead>\n",
       "    <tr style=\"text-align: right;\">\n",
       "      <th></th>\n",
       "      <th>No</th>\n",
       "      <th>year</th>\n",
       "      <th>month</th>\n",
       "      <th>day</th>\n",
       "      <th>hour</th>\n",
       "      <th>pm2.5</th>\n",
       "      <th>DEWP</th>\n",
       "      <th>TEMP</th>\n",
       "      <th>PRES</th>\n",
       "      <th>cbwd</th>\n",
       "      <th>Iws</th>\n",
       "      <th>Is</th>\n",
       "      <th>Ir</th>\n",
       "    </tr>\n",
       "  </thead>\n",
       "  <tbody>\n",
       "    <tr>\n",
       "      <th>0</th>\n",
       "      <td>1</td>\n",
       "      <td>2010</td>\n",
       "      <td>1</td>\n",
       "      <td>1</td>\n",
       "      <td>0</td>\n",
       "      <td>NaN</td>\n",
       "      <td>-21</td>\n",
       "      <td>-11.0</td>\n",
       "      <td>1021.0</td>\n",
       "      <td>NW</td>\n",
       "      <td>1.79</td>\n",
       "      <td>0</td>\n",
       "      <td>0</td>\n",
       "    </tr>\n",
       "    <tr>\n",
       "      <th>1</th>\n",
       "      <td>2</td>\n",
       "      <td>2010</td>\n",
       "      <td>1</td>\n",
       "      <td>1</td>\n",
       "      <td>1</td>\n",
       "      <td>NaN</td>\n",
       "      <td>-21</td>\n",
       "      <td>-12.0</td>\n",
       "      <td>1020.0</td>\n",
       "      <td>NW</td>\n",
       "      <td>4.92</td>\n",
       "      <td>0</td>\n",
       "      <td>0</td>\n",
       "    </tr>\n",
       "    <tr>\n",
       "      <th>2</th>\n",
       "      <td>3</td>\n",
       "      <td>2010</td>\n",
       "      <td>1</td>\n",
       "      <td>1</td>\n",
       "      <td>2</td>\n",
       "      <td>NaN</td>\n",
       "      <td>-21</td>\n",
       "      <td>-11.0</td>\n",
       "      <td>1019.0</td>\n",
       "      <td>NW</td>\n",
       "      <td>6.71</td>\n",
       "      <td>0</td>\n",
       "      <td>0</td>\n",
       "    </tr>\n",
       "    <tr>\n",
       "      <th>3</th>\n",
       "      <td>4</td>\n",
       "      <td>2010</td>\n",
       "      <td>1</td>\n",
       "      <td>1</td>\n",
       "      <td>3</td>\n",
       "      <td>NaN</td>\n",
       "      <td>-21</td>\n",
       "      <td>-14.0</td>\n",
       "      <td>1019.0</td>\n",
       "      <td>NW</td>\n",
       "      <td>9.84</td>\n",
       "      <td>0</td>\n",
       "      <td>0</td>\n",
       "    </tr>\n",
       "    <tr>\n",
       "      <th>4</th>\n",
       "      <td>5</td>\n",
       "      <td>2010</td>\n",
       "      <td>1</td>\n",
       "      <td>1</td>\n",
       "      <td>4</td>\n",
       "      <td>NaN</td>\n",
       "      <td>-20</td>\n",
       "      <td>-12.0</td>\n",
       "      <td>1018.0</td>\n",
       "      <td>NW</td>\n",
       "      <td>12.97</td>\n",
       "      <td>0</td>\n",
       "      <td>0</td>\n",
       "    </tr>\n",
       "    <tr>\n",
       "      <th>...</th>\n",
       "      <td>...</td>\n",
       "      <td>...</td>\n",
       "      <td>...</td>\n",
       "      <td>...</td>\n",
       "      <td>...</td>\n",
       "      <td>...</td>\n",
       "      <td>...</td>\n",
       "      <td>...</td>\n",
       "      <td>...</td>\n",
       "      <td>...</td>\n",
       "      <td>...</td>\n",
       "      <td>...</td>\n",
       "      <td>...</td>\n",
       "    </tr>\n",
       "    <tr>\n",
       "      <th>43819</th>\n",
       "      <td>43820</td>\n",
       "      <td>2014</td>\n",
       "      <td>12</td>\n",
       "      <td>31</td>\n",
       "      <td>19</td>\n",
       "      <td>8.0</td>\n",
       "      <td>-23</td>\n",
       "      <td>-2.0</td>\n",
       "      <td>1034.0</td>\n",
       "      <td>NW</td>\n",
       "      <td>231.97</td>\n",
       "      <td>0</td>\n",
       "      <td>0</td>\n",
       "    </tr>\n",
       "    <tr>\n",
       "      <th>43820</th>\n",
       "      <td>43821</td>\n",
       "      <td>2014</td>\n",
       "      <td>12</td>\n",
       "      <td>31</td>\n",
       "      <td>20</td>\n",
       "      <td>10.0</td>\n",
       "      <td>-22</td>\n",
       "      <td>-3.0</td>\n",
       "      <td>1034.0</td>\n",
       "      <td>NW</td>\n",
       "      <td>237.78</td>\n",
       "      <td>0</td>\n",
       "      <td>0</td>\n",
       "    </tr>\n",
       "    <tr>\n",
       "      <th>43821</th>\n",
       "      <td>43822</td>\n",
       "      <td>2014</td>\n",
       "      <td>12</td>\n",
       "      <td>31</td>\n",
       "      <td>21</td>\n",
       "      <td>10.0</td>\n",
       "      <td>-22</td>\n",
       "      <td>-3.0</td>\n",
       "      <td>1034.0</td>\n",
       "      <td>NW</td>\n",
       "      <td>242.70</td>\n",
       "      <td>0</td>\n",
       "      <td>0</td>\n",
       "    </tr>\n",
       "    <tr>\n",
       "      <th>43822</th>\n",
       "      <td>43823</td>\n",
       "      <td>2014</td>\n",
       "      <td>12</td>\n",
       "      <td>31</td>\n",
       "      <td>22</td>\n",
       "      <td>8.0</td>\n",
       "      <td>-22</td>\n",
       "      <td>-4.0</td>\n",
       "      <td>1034.0</td>\n",
       "      <td>NW</td>\n",
       "      <td>246.72</td>\n",
       "      <td>0</td>\n",
       "      <td>0</td>\n",
       "    </tr>\n",
       "    <tr>\n",
       "      <th>43823</th>\n",
       "      <td>43824</td>\n",
       "      <td>2014</td>\n",
       "      <td>12</td>\n",
       "      <td>31</td>\n",
       "      <td>23</td>\n",
       "      <td>12.0</td>\n",
       "      <td>-21</td>\n",
       "      <td>-3.0</td>\n",
       "      <td>1034.0</td>\n",
       "      <td>NW</td>\n",
       "      <td>249.85</td>\n",
       "      <td>0</td>\n",
       "      <td>0</td>\n",
       "    </tr>\n",
       "  </tbody>\n",
       "</table>\n",
       "<p>43824 rows × 13 columns</p>\n",
       "</div>"
      ],
      "text/plain": [
       "          No  year  month  day  hour  pm2.5  DEWP  TEMP    PRES cbwd     Iws  \\\n",
       "0          1  2010      1    1     0    NaN   -21 -11.0  1021.0   NW    1.79   \n",
       "1          2  2010      1    1     1    NaN   -21 -12.0  1020.0   NW    4.92   \n",
       "2          3  2010      1    1     2    NaN   -21 -11.0  1019.0   NW    6.71   \n",
       "3          4  2010      1    1     3    NaN   -21 -14.0  1019.0   NW    9.84   \n",
       "4          5  2010      1    1     4    NaN   -20 -12.0  1018.0   NW   12.97   \n",
       "...      ...   ...    ...  ...   ...    ...   ...   ...     ...  ...     ...   \n",
       "43819  43820  2014     12   31    19    8.0   -23  -2.0  1034.0   NW  231.97   \n",
       "43820  43821  2014     12   31    20   10.0   -22  -3.0  1034.0   NW  237.78   \n",
       "43821  43822  2014     12   31    21   10.0   -22  -3.0  1034.0   NW  242.70   \n",
       "43822  43823  2014     12   31    22    8.0   -22  -4.0  1034.0   NW  246.72   \n",
       "43823  43824  2014     12   31    23   12.0   -21  -3.0  1034.0   NW  249.85   \n",
       "\n",
       "       Is  Ir  \n",
       "0       0   0  \n",
       "1       0   0  \n",
       "2       0   0  \n",
       "3       0   0  \n",
       "4       0   0  \n",
       "...    ..  ..  \n",
       "43819   0   0  \n",
       "43820   0   0  \n",
       "43821   0   0  \n",
       "43822   0   0  \n",
       "43823   0   0  \n",
       "\n",
       "[43824 rows x 13 columns]"
      ]
     },
     "execution_count": 119,
     "metadata": {},
     "output_type": "execute_result"
    }
   ],
   "source": [
    "file_path = r'E:\\Jia\\Desktop\\MS-DS\\5509 Introduction to Machine Learning Supervised Learning\\week7\\PRSA_data_2010.1.1-2014.12.31.csv'\n",
    "df = pd.read_csv(file_path)\n",
    "df"
   ]
  },
  {
   "cell_type": "code",
   "execution_count": 120,
   "id": "b5e2de15",
   "metadata": {},
   "outputs": [
    {
     "name": "stdout",
     "output_type": "stream",
     "text": [
      "<class 'pandas.core.frame.DataFrame'>\n",
      "RangeIndex: 43824 entries, 0 to 43823\n",
      "Data columns (total 13 columns):\n",
      " #   Column  Non-Null Count  Dtype  \n",
      "---  ------  --------------  -----  \n",
      " 0   No      43824 non-null  int64  \n",
      " 1   year    43824 non-null  int64  \n",
      " 2   month   43824 non-null  int64  \n",
      " 3   day     43824 non-null  int64  \n",
      " 4   hour    43824 non-null  int64  \n",
      " 5   pm2.5   41757 non-null  float64\n",
      " 6   DEWP    43824 non-null  int64  \n",
      " 7   TEMP    43824 non-null  float64\n",
      " 8   PRES    43824 non-null  float64\n",
      " 9   cbwd    43824 non-null  object \n",
      " 10  Iws     43824 non-null  float64\n",
      " 11  Is      43824 non-null  int64  \n",
      " 12  Ir      43824 non-null  int64  \n",
      "dtypes: float64(4), int64(8), object(1)\n",
      "memory usage: 4.3+ MB\n"
     ]
    }
   ],
   "source": [
    "df.info()"
   ]
  },
  {
   "cell_type": "markdown",
   "id": "9c0adc1d",
   "metadata": {},
   "source": [
    "This dataset includes 43824 rows and 13 columns. According to df.infor(), I noticed there exists null values in the pm2.5 column."
   ]
  },
  {
   "cell_type": "markdown",
   "id": "c4026ed1",
   "metadata": {},
   "source": [
    "## 1.2 Inspect null values"
   ]
  },
  {
   "cell_type": "code",
   "execution_count": 4,
   "id": "b27036d5",
   "metadata": {},
   "outputs": [
    {
     "data": {
      "text/plain": [
       "No          0\n",
       "year        0\n",
       "month       0\n",
       "day         0\n",
       "hour        0\n",
       "pm2.5    2067\n",
       "DEWP        0\n",
       "TEMP        0\n",
       "PRES        0\n",
       "cbwd        0\n",
       "Iws         0\n",
       "Is          0\n",
       "Ir          0\n",
       "dtype: int64"
      ]
     },
     "execution_count": 4,
     "metadata": {},
     "output_type": "execute_result"
    }
   ],
   "source": [
    "df.isnull().sum()"
   ]
  },
  {
   "cell_type": "code",
   "execution_count": 5,
   "id": "9bd3aa4e",
   "metadata": {},
   "outputs": [
    {
     "data": {
      "text/plain": [
       "True"
      ]
     },
     "execution_count": 5,
     "metadata": {},
     "output_type": "execute_result"
    }
   ],
   "source": [
    "df.shape[0]*0.05 > 2067"
   ]
  },
  {
   "cell_type": "markdown",
   "id": "03e047b9",
   "metadata": {},
   "source": [
    "Complete case analysis is to drop any observations (rows) that have null values. It is suitable if the number of observations with null values are very small (say, less than 5%) compared to the total number of observations."
   ]
  },
  {
   "cell_type": "markdown",
   "id": "27c6b50d",
   "metadata": {},
   "source": [
    "## 1.3 Deal with missing data"
   ]
  },
  {
   "cell_type": "code",
   "execution_count": 6,
   "id": "84b3517b",
   "metadata": {},
   "outputs": [
    {
     "data": {
      "text/html": [
       "<div>\n",
       "<style scoped>\n",
       "    .dataframe tbody tr th:only-of-type {\n",
       "        vertical-align: middle;\n",
       "    }\n",
       "\n",
       "    .dataframe tbody tr th {\n",
       "        vertical-align: top;\n",
       "    }\n",
       "\n",
       "    .dataframe thead th {\n",
       "        text-align: right;\n",
       "    }\n",
       "</style>\n",
       "<table border=\"1\" class=\"dataframe\">\n",
       "  <thead>\n",
       "    <tr style=\"text-align: right;\">\n",
       "      <th></th>\n",
       "      <th>No</th>\n",
       "      <th>year</th>\n",
       "      <th>month</th>\n",
       "      <th>day</th>\n",
       "      <th>hour</th>\n",
       "      <th>pm2.5</th>\n",
       "      <th>DEWP</th>\n",
       "      <th>TEMP</th>\n",
       "      <th>PRES</th>\n",
       "      <th>cbwd</th>\n",
       "      <th>Iws</th>\n",
       "      <th>Is</th>\n",
       "      <th>Ir</th>\n",
       "    </tr>\n",
       "  </thead>\n",
       "  <tbody>\n",
       "    <tr>\n",
       "      <th>24</th>\n",
       "      <td>25</td>\n",
       "      <td>2010</td>\n",
       "      <td>1</td>\n",
       "      <td>2</td>\n",
       "      <td>0</td>\n",
       "      <td>129.0</td>\n",
       "      <td>-16</td>\n",
       "      <td>-4.0</td>\n",
       "      <td>1020.0</td>\n",
       "      <td>SE</td>\n",
       "      <td>1.79</td>\n",
       "      <td>0</td>\n",
       "      <td>0</td>\n",
       "    </tr>\n",
       "    <tr>\n",
       "      <th>25</th>\n",
       "      <td>26</td>\n",
       "      <td>2010</td>\n",
       "      <td>1</td>\n",
       "      <td>2</td>\n",
       "      <td>1</td>\n",
       "      <td>148.0</td>\n",
       "      <td>-15</td>\n",
       "      <td>-4.0</td>\n",
       "      <td>1020.0</td>\n",
       "      <td>SE</td>\n",
       "      <td>2.68</td>\n",
       "      <td>0</td>\n",
       "      <td>0</td>\n",
       "    </tr>\n",
       "    <tr>\n",
       "      <th>26</th>\n",
       "      <td>27</td>\n",
       "      <td>2010</td>\n",
       "      <td>1</td>\n",
       "      <td>2</td>\n",
       "      <td>2</td>\n",
       "      <td>159.0</td>\n",
       "      <td>-11</td>\n",
       "      <td>-5.0</td>\n",
       "      <td>1021.0</td>\n",
       "      <td>SE</td>\n",
       "      <td>3.57</td>\n",
       "      <td>0</td>\n",
       "      <td>0</td>\n",
       "    </tr>\n",
       "    <tr>\n",
       "      <th>27</th>\n",
       "      <td>28</td>\n",
       "      <td>2010</td>\n",
       "      <td>1</td>\n",
       "      <td>2</td>\n",
       "      <td>3</td>\n",
       "      <td>181.0</td>\n",
       "      <td>-7</td>\n",
       "      <td>-5.0</td>\n",
       "      <td>1022.0</td>\n",
       "      <td>SE</td>\n",
       "      <td>5.36</td>\n",
       "      <td>1</td>\n",
       "      <td>0</td>\n",
       "    </tr>\n",
       "    <tr>\n",
       "      <th>28</th>\n",
       "      <td>29</td>\n",
       "      <td>2010</td>\n",
       "      <td>1</td>\n",
       "      <td>2</td>\n",
       "      <td>4</td>\n",
       "      <td>138.0</td>\n",
       "      <td>-7</td>\n",
       "      <td>-5.0</td>\n",
       "      <td>1022.0</td>\n",
       "      <td>SE</td>\n",
       "      <td>6.25</td>\n",
       "      <td>2</td>\n",
       "      <td>0</td>\n",
       "    </tr>\n",
       "    <tr>\n",
       "      <th>...</th>\n",
       "      <td>...</td>\n",
       "      <td>...</td>\n",
       "      <td>...</td>\n",
       "      <td>...</td>\n",
       "      <td>...</td>\n",
       "      <td>...</td>\n",
       "      <td>...</td>\n",
       "      <td>...</td>\n",
       "      <td>...</td>\n",
       "      <td>...</td>\n",
       "      <td>...</td>\n",
       "      <td>...</td>\n",
       "      <td>...</td>\n",
       "    </tr>\n",
       "    <tr>\n",
       "      <th>43819</th>\n",
       "      <td>43820</td>\n",
       "      <td>2014</td>\n",
       "      <td>12</td>\n",
       "      <td>31</td>\n",
       "      <td>19</td>\n",
       "      <td>8.0</td>\n",
       "      <td>-23</td>\n",
       "      <td>-2.0</td>\n",
       "      <td>1034.0</td>\n",
       "      <td>NW</td>\n",
       "      <td>231.97</td>\n",
       "      <td>0</td>\n",
       "      <td>0</td>\n",
       "    </tr>\n",
       "    <tr>\n",
       "      <th>43820</th>\n",
       "      <td>43821</td>\n",
       "      <td>2014</td>\n",
       "      <td>12</td>\n",
       "      <td>31</td>\n",
       "      <td>20</td>\n",
       "      <td>10.0</td>\n",
       "      <td>-22</td>\n",
       "      <td>-3.0</td>\n",
       "      <td>1034.0</td>\n",
       "      <td>NW</td>\n",
       "      <td>237.78</td>\n",
       "      <td>0</td>\n",
       "      <td>0</td>\n",
       "    </tr>\n",
       "    <tr>\n",
       "      <th>43821</th>\n",
       "      <td>43822</td>\n",
       "      <td>2014</td>\n",
       "      <td>12</td>\n",
       "      <td>31</td>\n",
       "      <td>21</td>\n",
       "      <td>10.0</td>\n",
       "      <td>-22</td>\n",
       "      <td>-3.0</td>\n",
       "      <td>1034.0</td>\n",
       "      <td>NW</td>\n",
       "      <td>242.70</td>\n",
       "      <td>0</td>\n",
       "      <td>0</td>\n",
       "    </tr>\n",
       "    <tr>\n",
       "      <th>43822</th>\n",
       "      <td>43823</td>\n",
       "      <td>2014</td>\n",
       "      <td>12</td>\n",
       "      <td>31</td>\n",
       "      <td>22</td>\n",
       "      <td>8.0</td>\n",
       "      <td>-22</td>\n",
       "      <td>-4.0</td>\n",
       "      <td>1034.0</td>\n",
       "      <td>NW</td>\n",
       "      <td>246.72</td>\n",
       "      <td>0</td>\n",
       "      <td>0</td>\n",
       "    </tr>\n",
       "    <tr>\n",
       "      <th>43823</th>\n",
       "      <td>43824</td>\n",
       "      <td>2014</td>\n",
       "      <td>12</td>\n",
       "      <td>31</td>\n",
       "      <td>23</td>\n",
       "      <td>12.0</td>\n",
       "      <td>-21</td>\n",
       "      <td>-3.0</td>\n",
       "      <td>1034.0</td>\n",
       "      <td>NW</td>\n",
       "      <td>249.85</td>\n",
       "      <td>0</td>\n",
       "      <td>0</td>\n",
       "    </tr>\n",
       "  </tbody>\n",
       "</table>\n",
       "<p>41757 rows × 13 columns</p>\n",
       "</div>"
      ],
      "text/plain": [
       "          No  year  month  day  hour  pm2.5  DEWP  TEMP    PRES cbwd     Iws  \\\n",
       "24        25  2010      1    2     0  129.0   -16  -4.0  1020.0   SE    1.79   \n",
       "25        26  2010      1    2     1  148.0   -15  -4.0  1020.0   SE    2.68   \n",
       "26        27  2010      1    2     2  159.0   -11  -5.0  1021.0   SE    3.57   \n",
       "27        28  2010      1    2     3  181.0    -7  -5.0  1022.0   SE    5.36   \n",
       "28        29  2010      1    2     4  138.0    -7  -5.0  1022.0   SE    6.25   \n",
       "...      ...   ...    ...  ...   ...    ...   ...   ...     ...  ...     ...   \n",
       "43819  43820  2014     12   31    19    8.0   -23  -2.0  1034.0   NW  231.97   \n",
       "43820  43821  2014     12   31    20   10.0   -22  -3.0  1034.0   NW  237.78   \n",
       "43821  43822  2014     12   31    21   10.0   -22  -3.0  1034.0   NW  242.70   \n",
       "43822  43823  2014     12   31    22    8.0   -22  -4.0  1034.0   NW  246.72   \n",
       "43823  43824  2014     12   31    23   12.0   -21  -3.0  1034.0   NW  249.85   \n",
       "\n",
       "       Is  Ir  \n",
       "24      0   0  \n",
       "25      0   0  \n",
       "26      0   0  \n",
       "27      1   0  \n",
       "28      2   0  \n",
       "...    ..  ..  \n",
       "43819   0   0  \n",
       "43820   0   0  \n",
       "43821   0   0  \n",
       "43822   0   0  \n",
       "43823   0   0  \n",
       "\n",
       "[41757 rows x 13 columns]"
      ]
     },
     "execution_count": 6,
     "metadata": {},
     "output_type": "execute_result"
    }
   ],
   "source": [
    "df = df.dropna()\n",
    "df"
   ]
  },
  {
   "cell_type": "markdown",
   "id": "866b0417",
   "metadata": {},
   "source": [
    "After cleaning missing data, the dataset convert to 41757 rows and 13 columns."
   ]
  },
  {
   "cell_type": "markdown",
   "id": "fb9f5a5f",
   "metadata": {},
   "source": [
    "# Step2  Visualizing Data Analysis"
   ]
  },
  {
   "cell_type": "markdown",
   "id": "ea681acb",
   "metadata": {},
   "source": [
    "## 2.1 Plot the distribution of each feature"
   ]
  },
  {
   "cell_type": "code",
   "execution_count": 7,
   "id": "43e449de",
   "metadata": {},
   "outputs": [
    {
     "data": {
      "image/png": "[encoded data removed]",
      "text/plain": [
       "<Figure size 432x288 with 1 Axes>"
      ]
     },
     "metadata": {
      "needs_background": "light"
     },
     "output_type": "display_data"
    },
    {
     "data": {
      "image/png": "[encoded data removed]",
      "text/plain": [
       "<Figure size 432x288 with 1 Axes>"
      ]
     },
     "metadata": {
      "needs_background": "light"
     },
     "output_type": "display_data"
    },
    {
     "data": {
      "image/png": "[encoded data removed]",
      "text/plain": [
       "<Figure size 432x288 with 1 Axes>"
      ]
     },
     "metadata": {
      "needs_background": "light"
     },
     "output_type": "display_data"
    },
    {
     "data": {
      "image/png": "[encoded data removed]",
      "text/plain": [
       "<Figure size 432x288 with 1 Axes>"
      ]
     },
     "metadata": {
      "needs_background": "light"
     },
     "output_type": "display_data"
    },
    {
     "data": {
      "image/png": "[encoded data removed]",
      "text/plain": [
       "<Figure size 432x288 with 1 Axes>"
      ]
     },
     "metadata": {
      "needs_background": "light"
     },
     "output_type": "display_data"
    },
    {
     "data": {
      "image/png": "[encoded data removed]",
      "text/plain": [
       "<Figure size 432x288 with 1 Axes>"
      ]
     },
     "metadata": {
      "needs_background": "light"
     },
     "output_type": "display_data"
    },
    {
     "data": {
      "image/png": "[encoded data removed]",
      "text/plain": [
       "<Figure size 432x288 with 1 Axes>"
      ]
     },
     "metadata": {
      "needs_background": "light"
     },
     "output_type": "display_data"
    },
    {
     "data": {
      "image/png": "[encoded data removed]",
      "text/plain": [
       "<Figure size 432x288 with 1 Axes>"
      ]
     },
     "metadata": {
      "needs_background": "light"
     },
     "output_type": "display_data"
    },
    {
     "data": {
      "image/png": "[encoded data removed]",
      "text/plain": [
       "<Figure size 432x288 with 1 Axes>"
      ]
     },
     "metadata": {
      "needs_background": "light"
     },
     "output_type": "display_data"
    },
    {
     "data": {
      "image/png": "[encoded data removed]",
      "text/plain": [
       "<Figure size 432x288 with 1 Axes>"
      ]
     },
     "metadata": {
      "needs_background": "light"
     },
     "output_type": "display_data"
    },
    {
     "data": {
      "image/png": "[encoded data removed]",
      "text/plain": [
       "<Figure size 432x288 with 1 Axes>"
      ]
     },
     "metadata": {
      "needs_background": "light"
     },
     "output_type": "display_data"
    },
    {
     "data": {
      "image/png": "[encoded data removed]",
      "text/plain": [
       "<Figure size 432x288 with 1 Axes>"
      ]
     },
     "metadata": {
      "needs_background": "light"
     },
     "output_type": "display_data"
    }
   ],
   "source": [
    "df = df.loc[:, df.columns != 'No']\n",
    "for i in df.columns:\n",
    "    df[i].hist()\n",
    "    plt.title(i)\n",
    "    plt.show()"
   ]
  },
  {
   "cell_type": "code",
   "execution_count": 8,
   "id": "1da68890",
   "metadata": {},
   "outputs": [],
   "source": [
    "df = df.rename(columns = {'pm2.5':'pm'})"
   ]
  },
  {
   "cell_type": "code",
   "execution_count": 9,
   "id": "11c75665",
   "metadata": {},
   "outputs": [
    {
     "data": {
      "text/html": [
       "<div>\n",
       "<style scoped>\n",
       "    .dataframe tbody tr th:only-of-type {\n",
       "        vertical-align: middle;\n",
       "    }\n",
       "\n",
       "    .dataframe tbody tr th {\n",
       "        vertical-align: top;\n",
       "    }\n",
       "\n",
       "    .dataframe thead th {\n",
       "        text-align: right;\n",
       "    }\n",
       "</style>\n",
       "<table border=\"1\" class=\"dataframe\">\n",
       "  <thead>\n",
       "    <tr style=\"text-align: right;\">\n",
       "      <th></th>\n",
       "      <th>year</th>\n",
       "      <th>month</th>\n",
       "      <th>day</th>\n",
       "      <th>hour</th>\n",
       "      <th>pm</th>\n",
       "      <th>DEWP</th>\n",
       "      <th>TEMP</th>\n",
       "      <th>PRES</th>\n",
       "      <th>cbwd</th>\n",
       "      <th>Iws</th>\n",
       "      <th>Is</th>\n",
       "      <th>Ir</th>\n",
       "    </tr>\n",
       "  </thead>\n",
       "  <tbody>\n",
       "    <tr>\n",
       "      <th>24</th>\n",
       "      <td>2010</td>\n",
       "      <td>1</td>\n",
       "      <td>2</td>\n",
       "      <td>0</td>\n",
       "      <td>129.0</td>\n",
       "      <td>-16</td>\n",
       "      <td>-4.0</td>\n",
       "      <td>1020.0</td>\n",
       "      <td>SE</td>\n",
       "      <td>1.79</td>\n",
       "      <td>0</td>\n",
       "      <td>0</td>\n",
       "    </tr>\n",
       "    <tr>\n",
       "      <th>25</th>\n",
       "      <td>2010</td>\n",
       "      <td>1</td>\n",
       "      <td>2</td>\n",
       "      <td>1</td>\n",
       "      <td>148.0</td>\n",
       "      <td>-15</td>\n",
       "      <td>-4.0</td>\n",
       "      <td>1020.0</td>\n",
       "      <td>SE</td>\n",
       "      <td>2.68</td>\n",
       "      <td>0</td>\n",
       "      <td>0</td>\n",
       "    </tr>\n",
       "    <tr>\n",
       "      <th>26</th>\n",
       "      <td>2010</td>\n",
       "      <td>1</td>\n",
       "      <td>2</td>\n",
       "      <td>2</td>\n",
       "      <td>159.0</td>\n",
       "      <td>-11</td>\n",
       "      <td>-5.0</td>\n",
       "      <td>1021.0</td>\n",
       "      <td>SE</td>\n",
       "      <td>3.57</td>\n",
       "      <td>0</td>\n",
       "      <td>0</td>\n",
       "    </tr>\n",
       "    <tr>\n",
       "      <th>27</th>\n",
       "      <td>2010</td>\n",
       "      <td>1</td>\n",
       "      <td>2</td>\n",
       "      <td>3</td>\n",
       "      <td>181.0</td>\n",
       "      <td>-7</td>\n",
       "      <td>-5.0</td>\n",
       "      <td>1022.0</td>\n",
       "      <td>SE</td>\n",
       "      <td>5.36</td>\n",
       "      <td>1</td>\n",
       "      <td>0</td>\n",
       "    </tr>\n",
       "    <tr>\n",
       "      <th>28</th>\n",
       "      <td>2010</td>\n",
       "      <td>1</td>\n",
       "      <td>2</td>\n",
       "      <td>4</td>\n",
       "      <td>138.0</td>\n",
       "      <td>-7</td>\n",
       "      <td>-5.0</td>\n",
       "      <td>1022.0</td>\n",
       "      <td>SE</td>\n",
       "      <td>6.25</td>\n",
       "      <td>2</td>\n",
       "      <td>0</td>\n",
       "    </tr>\n",
       "    <tr>\n",
       "      <th>...</th>\n",
       "      <td>...</td>\n",
       "      <td>...</td>\n",
       "      <td>...</td>\n",
       "      <td>...</td>\n",
       "      <td>...</td>\n",
       "      <td>...</td>\n",
       "      <td>...</td>\n",
       "      <td>...</td>\n",
       "      <td>...</td>\n",
       "      <td>...</td>\n",
       "      <td>...</td>\n",
       "      <td>...</td>\n",
       "    </tr>\n",
       "    <tr>\n",
       "      <th>43819</th>\n",
       "      <td>2014</td>\n",
       "      <td>12</td>\n",
       "      <td>31</td>\n",
       "      <td>19</td>\n",
       "      <td>8.0</td>\n",
       "      <td>-23</td>\n",
       "      <td>-2.0</td>\n",
       "      <td>1034.0</td>\n",
       "      <td>NW</td>\n",
       "      <td>231.97</td>\n",
       "      <td>0</td>\n",
       "      <td>0</td>\n",
       "    </tr>\n",
       "    <tr>\n",
       "      <th>43820</th>\n",
       "      <td>2014</td>\n",
       "      <td>12</td>\n",
       "      <td>31</td>\n",
       "      <td>20</td>\n",
       "      <td>10.0</td>\n",
       "      <td>-22</td>\n",
       "      <td>-3.0</td>\n",
       "      <td>1034.0</td>\n",
       "      <td>NW</td>\n",
       "      <td>237.78</td>\n",
       "      <td>0</td>\n",
       "      <td>0</td>\n",
       "    </tr>\n",
       "    <tr>\n",
       "      <th>43821</th>\n",
       "      <td>2014</td>\n",
       "      <td>12</td>\n",
       "      <td>31</td>\n",
       "      <td>21</td>\n",
       "      <td>10.0</td>\n",
       "      <td>-22</td>\n",
       "      <td>-3.0</td>\n",
       "      <td>1034.0</td>\n",
       "      <td>NW</td>\n",
       "      <td>242.70</td>\n",
       "      <td>0</td>\n",
       "      <td>0</td>\n",
       "    </tr>\n",
       "    <tr>\n",
       "      <th>43822</th>\n",
       "      <td>2014</td>\n",
       "      <td>12</td>\n",
       "      <td>31</td>\n",
       "      <td>22</td>\n",
       "      <td>8.0</td>\n",
       "      <td>-22</td>\n",
       "      <td>-4.0</td>\n",
       "      <td>1034.0</td>\n",
       "      <td>NW</td>\n",
       "      <td>246.72</td>\n",
       "      <td>0</td>\n",
       "      <td>0</td>\n",
       "    </tr>\n",
       "    <tr>\n",
       "      <th>43823</th>\n",
       "      <td>2014</td>\n",
       "      <td>12</td>\n",
       "      <td>31</td>\n",
       "      <td>23</td>\n",
       "      <td>12.0</td>\n",
       "      <td>-21</td>\n",
       "      <td>-3.0</td>\n",
       "      <td>1034.0</td>\n",
       "      <td>NW</td>\n",
       "      <td>249.85</td>\n",
       "      <td>0</td>\n",
       "      <td>0</td>\n",
       "    </tr>\n",
       "  </tbody>\n",
       "</table>\n",
       "<p>41757 rows × 12 columns</p>\n",
       "</div>"
      ],
      "text/plain": [
       "       year  month  day  hour     pm  DEWP  TEMP    PRES cbwd     Iws  Is  Ir\n",
       "24     2010      1    2     0  129.0   -16  -4.0  1020.0   SE    1.79   0   0\n",
       "25     2010      1    2     1  148.0   -15  -4.0  1020.0   SE    2.68   0   0\n",
       "26     2010      1    2     2  159.0   -11  -5.0  1021.0   SE    3.57   0   0\n",
       "27     2010      1    2     3  181.0    -7  -5.0  1022.0   SE    5.36   1   0\n",
       "28     2010      1    2     4  138.0    -7  -5.0  1022.0   SE    6.25   2   0\n",
       "...     ...    ...  ...   ...    ...   ...   ...     ...  ...     ...  ..  ..\n",
       "43819  2014     12   31    19    8.0   -23  -2.0  1034.0   NW  231.97   0   0\n",
       "43820  2014     12   31    20   10.0   -22  -3.0  1034.0   NW  237.78   0   0\n",
       "43821  2014     12   31    21   10.0   -22  -3.0  1034.0   NW  242.70   0   0\n",
       "43822  2014     12   31    22    8.0   -22  -4.0  1034.0   NW  246.72   0   0\n",
       "43823  2014     12   31    23   12.0   -21  -3.0  1034.0   NW  249.85   0   0\n",
       "\n",
       "[41757 rows x 12 columns]"
      ]
     },
     "execution_count": 9,
     "metadata": {},
     "output_type": "execute_result"
    }
   ],
   "source": [
    "df"
   ]
  },
  {
   "cell_type": "markdown",
   "id": "b0c36824",
   "metadata": {},
   "source": [
    "## 2.2 PM2.5 in yearly changes"
   ]
  },
  {
   "cell_type": "code",
   "execution_count": 10,
   "id": "71c1f0a8",
   "metadata": {},
   "outputs": [
    {
     "data": {
      "text/html": [
       "<div>\n",
       "<style scoped>\n",
       "    .dataframe tbody tr th:only-of-type {\n",
       "        vertical-align: middle;\n",
       "    }\n",
       "\n",
       "    .dataframe tbody tr th {\n",
       "        vertical-align: top;\n",
       "    }\n",
       "\n",
       "    .dataframe thead th {\n",
       "        text-align: right;\n",
       "    }\n",
       "</style>\n",
       "<table border=\"1\" class=\"dataframe\">\n",
       "  <thead>\n",
       "    <tr style=\"text-align: right;\">\n",
       "      <th></th>\n",
       "      <th>month</th>\n",
       "      <th>day</th>\n",
       "      <th>hour</th>\n",
       "      <th>pm</th>\n",
       "      <th>DEWP</th>\n",
       "      <th>TEMP</th>\n",
       "      <th>PRES</th>\n",
       "      <th>Iws</th>\n",
       "      <th>Is</th>\n",
       "      <th>Ir</th>\n",
       "    </tr>\n",
       "    <tr>\n",
       "      <th>year</th>\n",
       "      <th></th>\n",
       "      <th></th>\n",
       "      <th></th>\n",
       "      <th></th>\n",
       "      <th></th>\n",
       "      <th></th>\n",
       "      <th></th>\n",
       "      <th></th>\n",
       "      <th></th>\n",
       "      <th></th>\n",
       "    </tr>\n",
       "  </thead>\n",
       "  <tbody>\n",
       "    <tr>\n",
       "      <th>2010</th>\n",
       "      <td>52549</td>\n",
       "      <td>126144</td>\n",
       "      <td>92994</td>\n",
       "      <td>841834.0</td>\n",
       "      <td>10940</td>\n",
       "      <td>91540.0</td>\n",
       "      <td>8222813.5</td>\n",
       "      <td>236377.43</td>\n",
       "      <td>624</td>\n",
       "      <td>2179</td>\n",
       "    </tr>\n",
       "    <tr>\n",
       "      <th>2011</th>\n",
       "      <td>53020</td>\n",
       "      <td>128244</td>\n",
       "      <td>92447</td>\n",
       "      <td>795741.0</td>\n",
       "      <td>16330</td>\n",
       "      <td>99660.0</td>\n",
       "      <td>8172252.0</td>\n",
       "      <td>204751.04</td>\n",
       "      <td>453</td>\n",
       "      <td>1199</td>\n",
       "    </tr>\n",
       "    <tr>\n",
       "      <th>2012</th>\n",
       "      <td>53521</td>\n",
       "      <td>128334</td>\n",
       "      <td>95443</td>\n",
       "      <td>751078.0</td>\n",
       "      <td>16206</td>\n",
       "      <td>100452.0</td>\n",
       "      <td>8428386.0</td>\n",
       "      <td>204142.61</td>\n",
       "      <td>631</td>\n",
       "      <td>2206</td>\n",
       "    </tr>\n",
       "    <tr>\n",
       "      <th>2013</th>\n",
       "      <td>56559</td>\n",
       "      <td>136023</td>\n",
       "      <td>99776</td>\n",
       "      <td>882660.0</td>\n",
       "      <td>11651</td>\n",
       "      <td>107465.0</td>\n",
       "      <td>8815260.5</td>\n",
       "      <td>182742.86</td>\n",
       "      <td>306</td>\n",
       "      <td>1405</td>\n",
       "    </tr>\n",
       "    <tr>\n",
       "      <th>2014</th>\n",
       "      <td>56346</td>\n",
       "      <td>136235</td>\n",
       "      <td>99642</td>\n",
       "      <td>846479.0</td>\n",
       "      <td>17955</td>\n",
       "      <td>118735.0</td>\n",
       "      <td>8804894.0</td>\n",
       "      <td>168589.83</td>\n",
       "      <td>297</td>\n",
       "      <td>1148</td>\n",
       "    </tr>\n",
       "  </tbody>\n",
       "</table>\n",
       "</div>"
      ],
      "text/plain": [
       "      month     day   hour        pm   DEWP      TEMP       PRES        Iws  \\\n",
       "year                                                                          \n",
       "2010  52549  126144  92994  841834.0  10940   91540.0  8222813.5  236377.43   \n",
       "2011  53020  128244  92447  795741.0  16330   99660.0  8172252.0  204751.04   \n",
       "2012  53521  128334  95443  751078.0  16206  100452.0  8428386.0  204142.61   \n",
       "2013  56559  136023  99776  882660.0  11651  107465.0  8815260.5  182742.86   \n",
       "2014  56346  136235  99642  846479.0  17955  118735.0  8804894.0  168589.83   \n",
       "\n",
       "       Is    Ir  \n",
       "year             \n",
       "2010  624  2179  \n",
       "2011  453  1199  \n",
       "2012  631  2206  \n",
       "2013  306  1405  \n",
       "2014  297  1148  "
      ]
     },
     "execution_count": 10,
     "metadata": {},
     "output_type": "execute_result"
    }
   ],
   "source": [
    "df.groupby('year').sum()"
   ]
  },
  {
   "cell_type": "code",
   "execution_count": 11,
   "id": "4979b552",
   "metadata": {},
   "outputs": [
    {
     "data": {
      "text/plain": [
       "<AxesSubplot:xlabel='year'>"
      ]
     },
     "execution_count": 11,
     "metadata": {},
     "output_type": "execute_result"
    },
    {
     "data": {
      "image/png": "[encoded data removed]",
      "text/plain": [
       "<Figure size 432x288 with 1 Axes>"
      ]
     },
     "metadata": {
      "needs_background": "light"
     },
     "output_type": "display_data"
    }
   ],
   "source": [
    "df.groupby('year').sum()['pm'].plot.bar()"
   ]
  },
  {
   "cell_type": "markdown",
   "id": "66d01229",
   "metadata": {},
   "source": [
    "I studied the pm2.5 in yearly changes. In 2013, the total observed pm2.5 is the highest, and is the lowest in 2012."
   ]
  },
  {
   "cell_type": "markdown",
   "id": "8581e69c",
   "metadata": {},
   "source": [
    "## 2.3 PM2.5 in monthly changes from 2010 to 2014"
   ]
  },
  {
   "cell_type": "code",
   "execution_count": 12,
   "id": "d9754f2d",
   "metadata": {},
   "outputs": [
    {
     "data": {
      "text/plain": [
       "Text(0.5, 1.0, '2010')"
      ]
     },
     "execution_count": 12,
     "metadata": {},
     "output_type": "execute_result"
    },
    {
     "data": {
      "image/png": "[encoded data removed]",
      "text/plain": [
       "<Figure size 432x288 with 1 Axes>"
      ]
     },
     "metadata": {
      "needs_background": "light"
     },
     "output_type": "display_data"
    }
   ],
   "source": [
    "df2010 = df[df['year']==2010]\n",
    "df2010.groupby('month').sum()['pm'].plot.bar()\n",
    "plt.title(2010)"
   ]
  },
  {
   "cell_type": "code",
   "execution_count": 13,
   "id": "e3e13542",
   "metadata": {},
   "outputs": [
    {
     "data": {
      "text/plain": [
       "Text(0.5, 1.0, '2011')"
      ]
     },
     "execution_count": 13,
     "metadata": {},
     "output_type": "execute_result"
    },
    {
     "data": {
      "image/png": "[encoded data removed]",
      "text/plain": [
       "<Figure size 432x288 with 1 Axes>"
      ]
     },
     "metadata": {
      "needs_background": "light"
     },
     "output_type": "display_data"
    }
   ],
   "source": [
    "df2011 = df[df['year']==2011]\n",
    "df2011.groupby('month').sum()['pm'].plot.bar()\n",
    "plt.title(2011)"
   ]
  },
  {
   "cell_type": "code",
   "execution_count": 14,
   "id": "4254a27f",
   "metadata": {},
   "outputs": [
    {
     "data": {
      "text/plain": [
       "Text(0.5, 1.0, '2012')"
      ]
     },
     "execution_count": 14,
     "metadata": {},
     "output_type": "execute_result"
    },
    {
     "data": {
      "image/png": "[encoded data removed]",
      "text/plain": [
       "<Figure size 432x288 with 1 Axes>"
      ]
     },
     "metadata": {
      "needs_background": "light"
     },
     "output_type": "display_data"
    }
   ],
   "source": [
    "df2012 = df[df['year']==2012]\n",
    "df2012.groupby('month').sum()['pm'].plot.bar()\n",
    "plt.title(2012)"
   ]
  },
  {
   "cell_type": "code",
   "execution_count": 15,
   "id": "b54de351",
   "metadata": {},
   "outputs": [
    {
     "data": {
      "text/plain": [
       "Text(0.5, 1.0, '2013')"
      ]
     },
     "execution_count": 15,
     "metadata": {},
     "output_type": "execute_result"
    },
    {
     "data": {
      "image/png": "[encoded data removed]",
      "text/plain": [
       "<Figure size 432x288 with 1 Axes>"
      ]
     },
     "metadata": {
      "needs_background": "light"
     },
     "output_type": "display_data"
    }
   ],
   "source": [
    "df2013 = df[df['year']==2013]\n",
    "df2013.groupby('month').sum()['pm'].plot.bar()\n",
    "plt.title(2013)"
   ]
  },
  {
   "cell_type": "code",
   "execution_count": 16,
   "id": "ae826025",
   "metadata": {},
   "outputs": [
    {
     "data": {
      "text/plain": [
       "Text(0.5, 1.0, '2014')"
      ]
     },
     "execution_count": 16,
     "metadata": {},
     "output_type": "execute_result"
    },
    {
     "data": {
      "image/png": "[encoded data removed]",
      "text/plain": [
       "<Figure size 432x288 with 1 Axes>"
      ]
     },
     "metadata": {
      "needs_background": "light"
     },
     "output_type": "display_data"
    }
   ],
   "source": [
    "df2014 = df[df['year']==2014]\n",
    "df2014.groupby('month').sum()['pm'].plot.bar()\n",
    "plt.title(2014)"
   ]
  },
  {
   "cell_type": "markdown",
   "id": "228fe91a",
   "metadata": {},
   "source": [
    "I studied the pm2.5 monthly changes from 2010 to 2014. The figure shows that PM2.5 tends to be higher in the winter months (October to February) for each year.  This was expected due to the winter heating."
   ]
  },
  {
   "cell_type": "markdown",
   "id": "8e0ee92b",
   "metadata": {},
   "source": [
    "# 3. Exploratory Data Analysis"
   ]
  },
  {
   "cell_type": "markdown",
   "id": "482126aa",
   "metadata": {},
   "source": [
    "## 3.1 Get correlation matrix"
   ]
  },
  {
   "cell_type": "code",
   "execution_count": 17,
   "id": "a7c4da5c",
   "metadata": {
    "scrolled": true
   },
   "outputs": [
    {
     "data": {
      "text/html": [
       "<div>\n",
       "<style scoped>\n",
       "    .dataframe tbody tr th:only-of-type {\n",
       "        vertical-align: middle;\n",
       "    }\n",
       "\n",
       "    .dataframe tbody tr th {\n",
       "        vertical-align: top;\n",
       "    }\n",
       "\n",
       "    .dataframe thead th {\n",
       "        text-align: right;\n",
       "    }\n",
       "</style>\n",
       "<table border=\"1\" class=\"dataframe\">\n",
       "  <thead>\n",
       "    <tr style=\"text-align: right;\">\n",
       "      <th></th>\n",
       "      <th>year</th>\n",
       "      <th>month</th>\n",
       "      <th>day</th>\n",
       "      <th>hour</th>\n",
       "      <th>pm</th>\n",
       "      <th>DEWP</th>\n",
       "      <th>TEMP</th>\n",
       "      <th>PRES</th>\n",
       "      <th>Iws</th>\n",
       "      <th>Is</th>\n",
       "      <th>Ir</th>\n",
       "    </tr>\n",
       "  </thead>\n",
       "  <tbody>\n",
       "    <tr>\n",
       "      <th>year</th>\n",
       "      <td>1.000000</td>\n",
       "      <td>-0.002452</td>\n",
       "      <td>-0.000103</td>\n",
       "      <td>0.000200</td>\n",
       "      <td>-0.014690</td>\n",
       "      <td>0.007298</td>\n",
       "      <td>0.055656</td>\n",
       "      <td>-0.013466</td>\n",
       "      <td>-0.068278</td>\n",
       "      <td>-0.019549</td>\n",
       "      <td>-0.026298</td>\n",
       "    </tr>\n",
       "    <tr>\n",
       "      <th>month</th>\n",
       "      <td>-0.002452</td>\n",
       "      <td>1.000000</td>\n",
       "      <td>0.006901</td>\n",
       "      <td>-0.000543</td>\n",
       "      <td>-0.024069</td>\n",
       "      <td>0.234492</td>\n",
       "      <td>0.172135</td>\n",
       "      <td>-0.066317</td>\n",
       "      <td>0.014664</td>\n",
       "      <td>-0.062883</td>\n",
       "      <td>0.038874</td>\n",
       "    </tr>\n",
       "    <tr>\n",
       "      <th>day</th>\n",
       "      <td>-0.000103</td>\n",
       "      <td>0.006901</td>\n",
       "      <td>1.000000</td>\n",
       "      <td>0.000327</td>\n",
       "      <td>0.082788</td>\n",
       "      <td>0.033537</td>\n",
       "      <td>0.022871</td>\n",
       "      <td>-0.010497</td>\n",
       "      <td>-0.004944</td>\n",
       "      <td>-0.037449</td>\n",
       "      <td>-0.000102</td>\n",
       "    </tr>\n",
       "    <tr>\n",
       "      <th>hour</th>\n",
       "      <td>0.000200</td>\n",
       "      <td>-0.000543</td>\n",
       "      <td>0.000327</td>\n",
       "      <td>1.000000</td>\n",
       "      <td>-0.023116</td>\n",
       "      <td>-0.021784</td>\n",
       "      <td>0.149443</td>\n",
       "      <td>-0.041831</td>\n",
       "      <td>0.058865</td>\n",
       "      <td>-0.002455</td>\n",
       "      <td>-0.008741</td>\n",
       "    </tr>\n",
       "    <tr>\n",
       "      <th>pm</th>\n",
       "      <td>-0.014690</td>\n",
       "      <td>-0.024069</td>\n",
       "      <td>0.082788</td>\n",
       "      <td>-0.023116</td>\n",
       "      <td>1.000000</td>\n",
       "      <td>0.171423</td>\n",
       "      <td>-0.090534</td>\n",
       "      <td>-0.047282</td>\n",
       "      <td>-0.247784</td>\n",
       "      <td>0.019266</td>\n",
       "      <td>-0.051369</td>\n",
       "    </tr>\n",
       "    <tr>\n",
       "      <th>DEWP</th>\n",
       "      <td>0.007298</td>\n",
       "      <td>0.234492</td>\n",
       "      <td>0.033537</td>\n",
       "      <td>-0.021784</td>\n",
       "      <td>0.171423</td>\n",
       "      <td>1.000000</td>\n",
       "      <td>0.823821</td>\n",
       "      <td>-0.777722</td>\n",
       "      <td>-0.293106</td>\n",
       "      <td>-0.034925</td>\n",
       "      <td>0.125341</td>\n",
       "    </tr>\n",
       "    <tr>\n",
       "      <th>TEMP</th>\n",
       "      <td>0.055656</td>\n",
       "      <td>0.172135</td>\n",
       "      <td>0.022871</td>\n",
       "      <td>0.149443</td>\n",
       "      <td>-0.090534</td>\n",
       "      <td>0.823821</td>\n",
       "      <td>1.000000</td>\n",
       "      <td>-0.826903</td>\n",
       "      <td>-0.149613</td>\n",
       "      <td>-0.094785</td>\n",
       "      <td>0.049544</td>\n",
       "    </tr>\n",
       "    <tr>\n",
       "      <th>PRES</th>\n",
       "      <td>-0.013466</td>\n",
       "      <td>-0.066317</td>\n",
       "      <td>-0.010497</td>\n",
       "      <td>-0.041831</td>\n",
       "      <td>-0.047282</td>\n",
       "      <td>-0.777722</td>\n",
       "      <td>-0.826903</td>\n",
       "      <td>1.000000</td>\n",
       "      <td>0.178871</td>\n",
       "      <td>0.070537</td>\n",
       "      <td>-0.080532</td>\n",
       "    </tr>\n",
       "    <tr>\n",
       "      <th>Iws</th>\n",
       "      <td>-0.068278</td>\n",
       "      <td>0.014664</td>\n",
       "      <td>-0.004944</td>\n",
       "      <td>0.058865</td>\n",
       "      <td>-0.247784</td>\n",
       "      <td>-0.293106</td>\n",
       "      <td>-0.149613</td>\n",
       "      <td>0.178871</td>\n",
       "      <td>1.000000</td>\n",
       "      <td>0.022630</td>\n",
       "      <td>-0.009157</td>\n",
       "    </tr>\n",
       "    <tr>\n",
       "      <th>Is</th>\n",
       "      <td>-0.019549</td>\n",
       "      <td>-0.062883</td>\n",
       "      <td>-0.037449</td>\n",
       "      <td>-0.002455</td>\n",
       "      <td>0.019266</td>\n",
       "      <td>-0.034925</td>\n",
       "      <td>-0.094785</td>\n",
       "      <td>0.070537</td>\n",
       "      <td>0.022630</td>\n",
       "      <td>1.000000</td>\n",
       "      <td>-0.009764</td>\n",
       "    </tr>\n",
       "    <tr>\n",
       "      <th>Ir</th>\n",
       "      <td>-0.026298</td>\n",
       "      <td>0.038874</td>\n",
       "      <td>-0.000102</td>\n",
       "      <td>-0.008741</td>\n",
       "      <td>-0.051369</td>\n",
       "      <td>0.125341</td>\n",
       "      <td>0.049544</td>\n",
       "      <td>-0.080532</td>\n",
       "      <td>-0.009157</td>\n",
       "      <td>-0.009764</td>\n",
       "      <td>1.000000</td>\n",
       "    </tr>\n",
       "  </tbody>\n",
       "</table>\n",
       "</div>"
      ],
      "text/plain": [
       "           year     month       day      hour        pm      DEWP      TEMP  \\\n",
       "year   1.000000 -0.002452 -0.000103  0.000200 -0.014690  0.007298  0.055656   \n",
       "month -0.002452  1.000000  0.006901 -0.000543 -0.024069  0.234492  0.172135   \n",
       "day   -0.000103  0.006901  1.000000  0.000327  0.082788  0.033537  0.022871   \n",
       "hour   0.000200 -0.000543  0.000327  1.000000 -0.023116 -0.021784  0.149443   \n",
       "pm    -0.014690 -0.024069  0.082788 -0.023116  1.000000  0.171423 -0.090534   \n",
       "DEWP   0.007298  0.234492  0.033537 -0.021784  0.171423  1.000000  0.823821   \n",
       "TEMP   0.055656  0.172135  0.022871  0.149443 -0.090534  0.823821  1.000000   \n",
       "PRES  -0.013466 -0.066317 -0.010497 -0.041831 -0.047282 -0.777722 -0.826903   \n",
       "Iws   -0.068278  0.014664 -0.004944  0.058865 -0.247784 -0.293106 -0.149613   \n",
       "Is    -0.019549 -0.062883 -0.037449 -0.002455  0.019266 -0.034925 -0.094785   \n",
       "Ir    -0.026298  0.038874 -0.000102 -0.008741 -0.051369  0.125341  0.049544   \n",
       "\n",
       "           PRES       Iws        Is        Ir  \n",
       "year  -0.013466 -0.068278 -0.019549 -0.026298  \n",
       "month -0.066317  0.014664 -0.062883  0.038874  \n",
       "day   -0.010497 -0.004944 -0.037449 -0.000102  \n",
       "hour  -0.041831  0.058865 -0.002455 -0.008741  \n",
       "pm    -0.047282 -0.247784  0.019266 -0.051369  \n",
       "DEWP  -0.777722 -0.293106 -0.034925  0.125341  \n",
       "TEMP  -0.826903 -0.149613 -0.094785  0.049544  \n",
       "PRES   1.000000  0.178871  0.070537 -0.080532  \n",
       "Iws    0.178871  1.000000  0.022630 -0.009157  \n",
       "Is     0.070537  0.022630  1.000000 -0.009764  \n",
       "Ir    -0.080532 -0.009157 -0.009764  1.000000  "
      ]
     },
     "execution_count": 17,
     "metadata": {},
     "output_type": "execute_result"
    }
   ],
   "source": [
    "corr = df.corr()\n",
    "corr"
   ]
  },
  {
   "cell_type": "markdown",
   "id": "e8fb1df9",
   "metadata": {},
   "source": [
    "## 3.2 Display the correlation matrix as heat map"
   ]
  },
  {
   "cell_type": "code",
   "execution_count": 18,
   "id": "9aeac659",
   "metadata": {},
   "outputs": [
    {
     "data": {
      "image/png": "[encoded data removed]",
      "text/plain": [
       "<Figure size 1440x720 with 2 Axes>"
      ]
     },
     "metadata": {
      "needs_background": "light"
     },
     "output_type": "display_data"
    }
   ],
   "source": [
    "plt.figure(figsize=(20,10))\n",
    "ax = sns.heatmap(corr, cbar=1, linewidths=1, vmax=1, vmin=0, square=True, cmap='Blues',fmt='.4f',annot_kws={\"frontsize\":100})\n",
    "plt.yticks(rotation=0)\n",
    "plt.title(\"Heatmap Beijing PM2.5 Data\")\n",
    "plt.show()"
   ]
  },
  {
   "cell_type": "markdown",
   "id": "b60f5d32",
   "metadata": {},
   "source": [
    "I look at the correlation coefficient values in this dataset, some variables have a negative correlation. Then I visualize the correlation coefficient matrix as a heatmap.I have to do forward study to get a more accurate result."
   ]
  },
  {
   "cell_type": "markdown",
   "id": "37784595",
   "metadata": {},
   "source": [
    "## 3.3 Best predictors based on adjusted R squared in linear regression "
   ]
  },
  {
   "cell_type": "markdown",
   "id": "ecfe1c4b",
   "metadata": {},
   "source": [
    "### 3.3.1 Data preparation"
   ]
  },
  {
   "cell_type": "code",
   "execution_count": 19,
   "id": "85f73c69",
   "metadata": {},
   "outputs": [
    {
     "name": "stdout",
     "output_type": "stream",
     "text": [
      "33405 8352\n"
     ]
    }
   ],
   "source": [
    "from sklearn.model_selection import train_test_split\n",
    "X_train, X_test, y_train, y_test = train_test_split(df,df,test_size=0.2, random_state=123)\n",
    "print(len(X_train),len(X_test))"
   ]
  },
  {
   "cell_type": "markdown",
   "id": "0b89ea4d",
   "metadata": {},
   "source": [
    "Use sklearn.model_selection.train_test_split function to split the data frame to X_train, X_test, y_train, y_test. X_train is 80% of observation randomly chosen. X_test is the rest 20%."
   ]
  },
  {
   "cell_type": "markdown",
   "id": "8d190698",
   "metadata": {},
   "source": [
    "### 3.3.2 Linear regression"
   ]
  },
  {
   "cell_type": "code",
   "execution_count": 20,
   "id": "a285dcab",
   "metadata": {},
   "outputs": [
    {
     "name": "stdout",
     "output_type": "stream",
     "text": [
      "{'year': 0.00020539812182951422, 'month': 0.0006586277905358262, 'day': 0.006395605319772346, 'hour': 0.0004904419455656894, 'pm': 1.0, 'DEWP': 0.02827449342555255, 'TEMP': 0.008583184608914496, 'PRES': 0.0020008355599913097, 'cbwd': 0.056471204836546995, 'Iws': 0.0600236792348251, 'Is': 0.0002340692468688621, 'Ir': 0.0027023900661933276}\n"
     ]
    }
   ],
   "source": [
    "res={}\n",
    "for feature in df.columns:\n",
    "    model = smf.ols(formula='pm ~ {}'.format(feature), data=X_train).fit()\n",
    "    r = model.rsquared_adj\n",
    "    res[feature] = r\n",
    "print(res)"
   ]
  },
  {
   "cell_type": "code",
   "execution_count": 21,
   "id": "2f0ba80e",
   "metadata": {},
   "outputs": [
    {
     "data": {
      "text/plain": [
       "[('pm', 1.0),\n",
       " ('Iws', 0.0600236792348251),\n",
       " ('cbwd', 0.056471204836546995),\n",
       " ('DEWP', 0.02827449342555255),\n",
       " ('TEMP', 0.008583184608914496),\n",
       " ('day', 0.006395605319772346),\n",
       " ('Ir', 0.0027023900661933276),\n",
       " ('PRES', 0.0020008355599913097),\n",
       " ('month', 0.0006586277905358262),\n",
       " ('hour', 0.0004904419455656894),\n",
       " ('Is', 0.0002340692468688621),\n",
       " ('year', 0.00020539812182951422)]"
      ]
     },
     "execution_count": 21,
     "metadata": {},
     "output_type": "execute_result"
    }
   ],
   "source": [
    "res1 = sorted(res.items(), key=lambda x: x[1],reverse=True)\n",
    "res1"
   ]
  },
  {
   "cell_type": "code",
   "execution_count": 22,
   "id": "675148ed",
   "metadata": {},
   "outputs": [],
   "source": [
    "top_four_feature = ['Iws', 'cbwd', 'DEWP','TEMP']"
   ]
  },
  {
   "cell_type": "markdown",
   "id": "35b65163",
   "metadata": {},
   "source": [
    "Linear regression uses adjusted R squared as fit performance.According to the adjusted R squared values, I get the top four correlated features, which is Iws, cbwd, DEWP, TEMP. "
   ]
  },
  {
   "cell_type": "markdown",
   "id": "cdf14b8e",
   "metadata": {},
   "source": [
    "## 3.4 Forward stepwise refinement"
   ]
  },
  {
   "cell_type": "code",
   "execution_count": 23,
   "id": "c3680e63",
   "metadata": {},
   "outputs": [],
   "source": [
    "check_factors = ['Iws','cbwd','DEWP', 'TEMP','day', 'Ir', \n",
    "                 'PRES','month', 'hour', 'Is', 'year']"
   ]
  },
  {
   "cell_type": "code",
   "execution_count": 24,
   "id": "aea1403e",
   "metadata": {},
   "outputs": [
    {
     "name": "stdout",
     "output_type": "stream",
     "text": [
      "Iws 0.06005181886842481\n",
      "cbwd 0.056555942783663826\n",
      "DEWP 0.028303583519750153\n",
      "TEMP 0.00861286419265872\n",
      "day 0.006425350392059492\n",
      "Ir 0.0027322457005465317\n",
      "PRES 0.002030712196455231\n",
      "month 0.0006885446080490132\n",
      "hour 0.0005203637979802611\n",
      "Is 0.00026399877419358564\n",
      "year 0.00023532850746832423\n",
      "best: ['Iws', 0.06005181886842481]\n"
     ]
    }
   ],
   "source": [
    "best = ['',0]\n",
    "for p in check_factors:\n",
    "    model  = smf.ols(formula='pm~'+p, data=X_train).fit()\n",
    "    print(p, model.rsquared)\n",
    "    if model.rsquared>best[1]:\n",
    "        best = [p, model.rsquared]\n",
    "print('best:',best)"
   ]
  },
  {
   "cell_type": "code",
   "execution_count": 25,
   "id": "b534fbcf",
   "metadata": {},
   "outputs": [
    {
     "data": {
      "text/html": [
       "<table class=\"simpletable\">\n",
       "<caption>OLS Regression Results</caption>\n",
       "<tr>\n",
       "  <th>Dep. Variable:</th>           <td>pm</td>        <th>  R-squared:         </th>  <td>   0.060</td>  \n",
       "</tr>\n",
       "<tr>\n",
       "  <th>Model:</th>                   <td>OLS</td>       <th>  Adj. R-squared:    </th>  <td>   0.060</td>  \n",
       "</tr>\n",
       "<tr>\n",
       "  <th>Method:</th>             <td>Least Squares</td>  <th>  F-statistic:       </th>  <td>   2134.</td>  \n",
       "</tr>\n",
       "<tr>\n",
       "  <th>Date:</th>             <td>Tue, 13 Sep 2022</td> <th>  Prob (F-statistic):</th>   <td>  0.00</td>   \n",
       "</tr>\n",
       "<tr>\n",
       "  <th>Time:</th>                 <td>09:40:11</td>     <th>  Log-Likelihood:    </th> <td>-1.9742e+05</td>\n",
       "</tr>\n",
       "<tr>\n",
       "  <th>No. Observations:</th>      <td> 33405</td>      <th>  AIC:               </th>  <td>3.948e+05</td> \n",
       "</tr>\n",
       "<tr>\n",
       "  <th>Df Residuals:</th>          <td> 33403</td>      <th>  BIC:               </th>  <td>3.949e+05</td> \n",
       "</tr>\n",
       "<tr>\n",
       "  <th>Df Model:</th>              <td>     1</td>      <th>                     </th>      <td> </td>     \n",
       "</tr>\n",
       "<tr>\n",
       "  <th>Covariance Type:</th>      <td>nonrobust</td>    <th>                     </th>      <td> </td>     \n",
       "</tr>\n",
       "</table>\n",
       "<table class=\"simpletable\">\n",
       "<tr>\n",
       "      <td></td>         <th>coef</th>     <th>std err</th>      <th>t</th>      <th>P>|t|</th>  <th>[0.025</th>    <th>0.975]</th>  \n",
       "</tr>\n",
       "<tr>\n",
       "  <th>Intercept</th> <td>  109.3148</td> <td>    0.541</td> <td>  201.896</td> <td> 0.000</td> <td>  108.254</td> <td>  110.376</td>\n",
       "</tr>\n",
       "<tr>\n",
       "  <th>Iws</th>       <td>   -0.4535</td> <td>    0.010</td> <td>  -46.196</td> <td> 0.000</td> <td>   -0.473</td> <td>   -0.434</td>\n",
       "</tr>\n",
       "</table>\n",
       "<table class=\"simpletable\">\n",
       "<tr>\n",
       "  <th>Omnibus:</th>       <td>12561.987</td> <th>  Durbin-Watson:     </th> <td>   1.999</td> \n",
       "</tr>\n",
       "<tr>\n",
       "  <th>Prob(Omnibus):</th>  <td> 0.000</td>   <th>  Jarque-Bera (JB):  </th> <td>54841.643</td>\n",
       "</tr>\n",
       "<tr>\n",
       "  <th>Skew:</th>           <td> 1.822</td>   <th>  Prob(JB):          </th> <td>    0.00</td> \n",
       "</tr>\n",
       "<tr>\n",
       "  <th>Kurtosis:</th>       <td> 8.112</td>   <th>  Cond. No.          </th> <td>    61.2</td> \n",
       "</tr>\n",
       "</table><br/><br/>Notes:<br/>[1] Standard Errors assume that the covariance matrix of the errors is correctly specified."
      ],
      "text/plain": [
       "<class 'statsmodels.iolib.summary.Summary'>\n",
       "\"\"\"\n",
       "                            OLS Regression Results                            \n",
       "==============================================================================\n",
       "Dep. Variable:                     pm   R-squared:                       0.060\n",
       "Model:                            OLS   Adj. R-squared:                  0.060\n",
       "Method:                 Least Squares   F-statistic:                     2134.\n",
       "Date:                Tue, 13 Sep 2022   Prob (F-statistic):               0.00\n",
       "Time:                        09:40:11   Log-Likelihood:            -1.9742e+05\n",
       "No. Observations:               33405   AIC:                         3.948e+05\n",
       "Df Residuals:                   33403   BIC:                         3.949e+05\n",
       "Df Model:                           1                                         \n",
       "Covariance Type:            nonrobust                                         \n",
       "==============================================================================\n",
       "                 coef    std err          t      P>|t|      [0.025      0.975]\n",
       "------------------------------------------------------------------------------\n",
       "Intercept    109.3148      0.541    201.896      0.000     108.254     110.376\n",
       "Iws           -0.4535      0.010    -46.196      0.000      -0.473      -0.434\n",
       "==============================================================================\n",
       "Omnibus:                    12561.987   Durbin-Watson:                   1.999\n",
       "Prob(Omnibus):                  0.000   Jarque-Bera (JB):            54841.643\n",
       "Skew:                           1.822   Prob(JB):                         0.00\n",
       "Kurtosis:                       8.112   Cond. No.                         61.2\n",
       "==============================================================================\n",
       "\n",
       "Notes:\n",
       "[1] Standard Errors assume that the covariance matrix of the errors is correctly specified.\n",
       "\"\"\""
      ]
     },
     "execution_count": 25,
     "metadata": {},
     "output_type": "execute_result"
    }
   ],
   "source": [
    "train1 = smf.ols(formula='pm ~ Iws', data=X_train).fit()\n",
    "train1.summary()"
   ]
  },
  {
   "cell_type": "code",
   "execution_count": 26,
   "id": "e1e69a4f",
   "metadata": {},
   "outputs": [
    {
     "name": "stdout",
     "output_type": "stream",
     "text": [
      "Iws 0.06005181886842481\n",
      "cbwd 0.08816582489233449\n",
      "DEWP 0.0703019640123802\n",
      "TEMP 0.07730066762307963\n",
      "day 0.06614864296375911\n",
      "Ir 0.06292911314169847\n",
      "PRES 0.060053813737091066\n",
      "month 0.06058234899608439\n",
      "hour 0.0601276491471866\n",
      "Is 0.06053194049949551\n",
      "year 0.06105832767587982\n",
      "best: ['cbwd', 0.08816582489233449]\n"
     ]
    }
   ],
   "source": [
    "best = ['',0]\n",
    "for p in check_factors:\n",
    "    model  = smf.ols(formula='pm ~ Iws+'+p, data=X_train).fit()\n",
    "    print(p, model.rsquared)\n",
    "    if model.rsquared>best[1]:\n",
    "        best = [p, model.rsquared]\n",
    "print('best:',best)"
   ]
  },
  {
   "cell_type": "code",
   "execution_count": 27,
   "id": "328b6952",
   "metadata": {},
   "outputs": [
    {
     "data": {
      "text/html": [
       "<table class=\"simpletable\">\n",
       "<caption>OLS Regression Results</caption>\n",
       "<tr>\n",
       "  <th>Dep. Variable:</th>           <td>pm</td>        <th>  R-squared:         </th>  <td>   0.088</td>  \n",
       "</tr>\n",
       "<tr>\n",
       "  <th>Model:</th>                   <td>OLS</td>       <th>  Adj. R-squared:    </th>  <td>   0.088</td>  \n",
       "</tr>\n",
       "<tr>\n",
       "  <th>Method:</th>             <td>Least Squares</td>  <th>  F-statistic:       </th>  <td>   807.4</td>  \n",
       "</tr>\n",
       "<tr>\n",
       "  <th>Date:</th>             <td>Tue, 13 Sep 2022</td> <th>  Prob (F-statistic):</th>   <td>  0.00</td>   \n",
       "</tr>\n",
       "<tr>\n",
       "  <th>Time:</th>                 <td>09:40:11</td>     <th>  Log-Likelihood:    </th> <td>-1.9691e+05</td>\n",
       "</tr>\n",
       "<tr>\n",
       "  <th>No. Observations:</th>      <td> 33405</td>      <th>  AIC:               </th>  <td>3.938e+05</td> \n",
       "</tr>\n",
       "<tr>\n",
       "  <th>Df Residuals:</th>          <td> 33400</td>      <th>  BIC:               </th>  <td>3.939e+05</td> \n",
       "</tr>\n",
       "<tr>\n",
       "  <th>Df Model:</th>              <td>     4</td>      <th>                     </th>      <td> </td>     \n",
       "</tr>\n",
       "<tr>\n",
       "  <th>Covariance Type:</th>      <td>nonrobust</td>    <th>                     </th>      <td> </td>     \n",
       "</tr>\n",
       "</table>\n",
       "<table class=\"simpletable\">\n",
       "<tr>\n",
       "       <td></td>         <th>coef</th>     <th>std err</th>      <th>t</th>      <th>P>|t|</th>  <th>[0.025</th>    <th>0.975]</th>  \n",
       "</tr>\n",
       "<tr>\n",
       "  <th>Intercept</th>  <td>   92.2392</td> <td>    1.435</td> <td>   64.297</td> <td> 0.000</td> <td>   89.427</td> <td>   95.051</td>\n",
       "</tr>\n",
       "<tr>\n",
       "  <th>cbwd[T.NW]</th> <td>   -4.3818</td> <td>    1.720</td> <td>   -2.548</td> <td> 0.011</td> <td>   -7.753</td> <td>   -1.010</td>\n",
       "</tr>\n",
       "<tr>\n",
       "  <th>cbwd[T.SE]</th> <td>   25.1271</td> <td>    1.651</td> <td>   15.224</td> <td> 0.000</td> <td>   21.892</td> <td>   28.362</td>\n",
       "</tr>\n",
       "<tr>\n",
       "  <th>cbwd[T.cv]</th> <td>   34.2332</td> <td>    1.769</td> <td>   19.347</td> <td> 0.000</td> <td>   30.765</td> <td>   37.701</td>\n",
       "</tr>\n",
       "<tr>\n",
       "  <th>Iws</th>        <td>   -0.3554</td> <td>    0.010</td> <td>  -34.027</td> <td> 0.000</td> <td>   -0.376</td> <td>   -0.335</td>\n",
       "</tr>\n",
       "</table>\n",
       "<table class=\"simpletable\">\n",
       "<tr>\n",
       "  <th>Omnibus:</th>       <td>13474.339</td> <th>  Durbin-Watson:     </th> <td>   2.001</td> \n",
       "</tr>\n",
       "<tr>\n",
       "  <th>Prob(Omnibus):</th>  <td> 0.000</td>   <th>  Jarque-Bera (JB):  </th> <td>66119.014</td>\n",
       "</tr>\n",
       "<tr>\n",
       "  <th>Skew:</th>           <td> 1.925</td>   <th>  Prob(JB):          </th> <td>    0.00</td> \n",
       "</tr>\n",
       "<tr>\n",
       "  <th>Kurtosis:</th>       <td> 8.717</td>   <th>  Cond. No.          </th> <td>    342.</td> \n",
       "</tr>\n",
       "</table><br/><br/>Notes:<br/>[1] Standard Errors assume that the covariance matrix of the errors is correctly specified."
      ],
      "text/plain": [
       "<class 'statsmodels.iolib.summary.Summary'>\n",
       "\"\"\"\n",
       "                            OLS Regression Results                            \n",
       "==============================================================================\n",
       "Dep. Variable:                     pm   R-squared:                       0.088\n",
       "Model:                            OLS   Adj. R-squared:                  0.088\n",
       "Method:                 Least Squares   F-statistic:                     807.4\n",
       "Date:                Tue, 13 Sep 2022   Prob (F-statistic):               0.00\n",
       "Time:                        09:40:11   Log-Likelihood:            -1.9691e+05\n",
       "No. Observations:               33405   AIC:                         3.938e+05\n",
       "Df Residuals:                   33400   BIC:                         3.939e+05\n",
       "Df Model:                           4                                         \n",
       "Covariance Type:            nonrobust                                         \n",
       "==============================================================================\n",
       "                 coef    std err          t      P>|t|      [0.025      0.975]\n",
       "------------------------------------------------------------------------------\n",
       "Intercept     92.2392      1.435     64.297      0.000      89.427      95.051\n",
       "cbwd[T.NW]    -4.3818      1.720     -2.548      0.011      -7.753      -1.010\n",
       "cbwd[T.SE]    25.1271      1.651     15.224      0.000      21.892      28.362\n",
       "cbwd[T.cv]    34.2332      1.769     19.347      0.000      30.765      37.701\n",
       "Iws           -0.3554      0.010    -34.027      0.000      -0.376      -0.335\n",
       "==============================================================================\n",
       "Omnibus:                    13474.339   Durbin-Watson:                   2.001\n",
       "Prob(Omnibus):                  0.000   Jarque-Bera (JB):            66119.014\n",
       "Skew:                           1.925   Prob(JB):                         0.00\n",
       "Kurtosis:                       8.717   Cond. No.                         342.\n",
       "==============================================================================\n",
       "\n",
       "Notes:\n",
       "[1] Standard Errors assume that the covariance matrix of the errors is correctly specified.\n",
       "\"\"\""
      ]
     },
     "execution_count": 27,
     "metadata": {},
     "output_type": "execute_result"
    }
   ],
   "source": [
    "train2 = smf.ols(formula='pm ~ Iws+cbwd', data=X_train).fit()\n",
    "train2.summary()"
   ]
  },
  {
   "cell_type": "code",
   "execution_count": 28,
   "id": "b546f635",
   "metadata": {},
   "outputs": [
    {
     "name": "stdout",
     "output_type": "stream",
     "text": [
      "Iws 0.08816582489233449\n",
      "cbwd 0.08816582489233449\n",
      "DEWP 0.09192847771257084\n",
      "TEMP 0.11963029591160979\n",
      "day 0.09374686182500658\n",
      "Ir 0.09007572024570565\n",
      "PRES 0.08909547623530467\n",
      "month 0.0886286987848196\n",
      "hour 0.08944231510830158\n",
      "Is 0.08845526462287012\n",
      "year 0.0896022768375816\n",
      "best: ['TEMP', 0.11963029591160979]\n"
     ]
    }
   ],
   "source": [
    "best = ['',0]\n",
    "for p in check_factors:\n",
    "    model  = smf.ols(formula='pm ~ Iws+cbwd+'+p, data=X_train).fit()\n",
    "    print(p, model.rsquared)\n",
    "    if model.rsquared>best[1]:\n",
    "        best = [p, model.rsquared]\n",
    "print('best:',best)"
   ]
  },
  {
   "cell_type": "code",
   "execution_count": 29,
   "id": "0b5ff7a0",
   "metadata": {},
   "outputs": [
    {
     "data": {
      "text/html": [
       "<table class=\"simpletable\">\n",
       "<caption>OLS Regression Results</caption>\n",
       "<tr>\n",
       "  <th>Dep. Variable:</th>           <td>pm</td>        <th>  R-squared:         </th>  <td>   0.120</td>  \n",
       "</tr>\n",
       "<tr>\n",
       "  <th>Model:</th>                   <td>OLS</td>       <th>  Adj. R-squared:    </th>  <td>   0.119</td>  \n",
       "</tr>\n",
       "<tr>\n",
       "  <th>Method:</th>             <td>Least Squares</td>  <th>  F-statistic:       </th>  <td>   907.7</td>  \n",
       "</tr>\n",
       "<tr>\n",
       "  <th>Date:</th>             <td>Tue, 13 Sep 2022</td> <th>  Prob (F-statistic):</th>   <td>  0.00</td>   \n",
       "</tr>\n",
       "<tr>\n",
       "  <th>Time:</th>                 <td>09:40:13</td>     <th>  Log-Likelihood:    </th> <td>-1.9633e+05</td>\n",
       "</tr>\n",
       "<tr>\n",
       "  <th>No. Observations:</th>      <td> 33405</td>      <th>  AIC:               </th>  <td>3.927e+05</td> \n",
       "</tr>\n",
       "<tr>\n",
       "  <th>Df Residuals:</th>          <td> 33399</td>      <th>  BIC:               </th>  <td>3.927e+05</td> \n",
       "</tr>\n",
       "<tr>\n",
       "  <th>Df Model:</th>              <td>     5</td>      <th>                     </th>      <td> </td>     \n",
       "</tr>\n",
       "<tr>\n",
       "  <th>Covariance Type:</th>      <td>nonrobust</td>    <th>                     </th>      <td> </td>     \n",
       "</tr>\n",
       "</table>\n",
       "<table class=\"simpletable\">\n",
       "<tr>\n",
       "       <td></td>         <th>coef</th>     <th>std err</th>      <th>t</th>      <th>P>|t|</th>  <th>[0.025</th>    <th>0.975]</th>  \n",
       "</tr>\n",
       "<tr>\n",
       "  <th>Intercept</th>  <td>  107.1878</td> <td>    1.475</td> <td>   72.692</td> <td> 0.000</td> <td>  104.298</td> <td>  110.078</td>\n",
       "</tr>\n",
       "<tr>\n",
       "  <th>cbwd[T.NW]</th> <td>   -6.7303</td> <td>    1.691</td> <td>   -3.979</td> <td> 0.000</td> <td>  -10.046</td> <td>   -3.415</td>\n",
       "</tr>\n",
       "<tr>\n",
       "  <th>cbwd[T.SE]</th> <td>   35.6568</td> <td>    1.650</td> <td>   21.607</td> <td> 0.000</td> <td>   32.422</td> <td>   38.891</td>\n",
       "</tr>\n",
       "<tr>\n",
       "  <th>cbwd[T.cv]</th> <td>   36.8580</td> <td>    1.740</td> <td>   21.179</td> <td> 0.000</td> <td>   33.447</td> <td>   40.269</td>\n",
       "</tr>\n",
       "<tr>\n",
       "  <th>Iws</th>        <td>   -0.3876</td> <td>    0.010</td> <td>  -37.605</td> <td> 0.000</td> <td>   -0.408</td> <td>   -0.367</td>\n",
       "</tr>\n",
       "<tr>\n",
       "  <th>TEMP</th>       <td>   -1.4253</td> <td>    0.041</td> <td>  -34.550</td> <td> 0.000</td> <td>   -1.506</td> <td>   -1.344</td>\n",
       "</tr>\n",
       "</table>\n",
       "<table class=\"simpletable\">\n",
       "<tr>\n",
       "  <th>Omnibus:</th>       <td>12425.312</td> <th>  Durbin-Watson:     </th> <td>   1.996</td> \n",
       "</tr>\n",
       "<tr>\n",
       "  <th>Prob(Omnibus):</th>  <td> 0.000</td>   <th>  Jarque-Bera (JB):  </th> <td>55577.929</td>\n",
       "</tr>\n",
       "<tr>\n",
       "  <th>Skew:</th>           <td> 1.788</td>   <th>  Prob(JB):          </th> <td>    0.00</td> \n",
       "</tr>\n",
       "<tr>\n",
       "  <th>Kurtosis:</th>       <td> 8.209</td>   <th>  Cond. No.          </th> <td>    343.</td> \n",
       "</tr>\n",
       "</table><br/><br/>Notes:<br/>[1] Standard Errors assume that the covariance matrix of the errors is correctly specified."
      ],
      "text/plain": [
       "<class 'statsmodels.iolib.summary.Summary'>\n",
       "\"\"\"\n",
       "                            OLS Regression Results                            \n",
       "==============================================================================\n",
       "Dep. Variable:                     pm   R-squared:                       0.120\n",
       "Model:                            OLS   Adj. R-squared:                  0.119\n",
       "Method:                 Least Squares   F-statistic:                     907.7\n",
       "Date:                Tue, 13 Sep 2022   Prob (F-statistic):               0.00\n",
       "Time:                        09:40:13   Log-Likelihood:            -1.9633e+05\n",
       "No. Observations:               33405   AIC:                         3.927e+05\n",
       "Df Residuals:                   33399   BIC:                         3.927e+05\n",
       "Df Model:                           5                                         \n",
       "Covariance Type:            nonrobust                                         \n",
       "==============================================================================\n",
       "                 coef    std err          t      P>|t|      [0.025      0.975]\n",
       "------------------------------------------------------------------------------\n",
       "Intercept    107.1878      1.475     72.692      0.000     104.298     110.078\n",
       "cbwd[T.NW]    -6.7303      1.691     -3.979      0.000     -10.046      -3.415\n",
       "cbwd[T.SE]    35.6568      1.650     21.607      0.000      32.422      38.891\n",
       "cbwd[T.cv]    36.8580      1.740     21.179      0.000      33.447      40.269\n",
       "Iws           -0.3876      0.010    -37.605      0.000      -0.408      -0.367\n",
       "TEMP          -1.4253      0.041    -34.550      0.000      -1.506      -1.344\n",
       "==============================================================================\n",
       "Omnibus:                    12425.312   Durbin-Watson:                   1.996\n",
       "Prob(Omnibus):                  0.000   Jarque-Bera (JB):            55577.929\n",
       "Skew:                           1.788   Prob(JB):                         0.00\n",
       "Kurtosis:                       8.209   Cond. No.                         343.\n",
       "==============================================================================\n",
       "\n",
       "Notes:\n",
       "[1] Standard Errors assume that the covariance matrix of the errors is correctly specified.\n",
       "\"\"\""
      ]
     },
     "execution_count": 29,
     "metadata": {},
     "output_type": "execute_result"
    }
   ],
   "source": [
    "train3 = smf.ols(formula='pm ~ Iws+cbwd+TEMP', data=X_train).fit()\n",
    "train3.summary()"
   ]
  },
  {
   "cell_type": "code",
   "execution_count": 30,
   "id": "e90d5ed3",
   "metadata": {},
   "outputs": [
    {
     "name": "stdout",
     "output_type": "stream",
     "text": [
      "Iws 0.11963029591160979\n",
      "cbwd 0.11963029591160979\n",
      "DEWP 0.24050838083691073\n",
      "TEMP 0.11963029591160979\n",
      "day 0.12580877314918704\n",
      "Ir 0.12064311797875782\n",
      "PRES 0.1567252001763214\n",
      "month 0.11989868489919275\n",
      "hour 0.11995830879460745\n",
      "Is 0.11963758927758728\n",
      "year 0.12057792142821133\n",
      "best: ['DEWP', 0.24050838083691073]\n"
     ]
    }
   ],
   "source": [
    "best = ['',0]\n",
    "for p in check_factors:\n",
    "    model  = smf.ols(formula='pm ~ Iws+cbwd+TEMP+'+p, data=X_train).fit()\n",
    "    print(p, model.rsquared)\n",
    "    if model.rsquared>best[1]:\n",
    "        best = [p, model.rsquared]\n",
    "print('best:',best)"
   ]
  },
  {
   "cell_type": "code",
   "execution_count": 31,
   "id": "0a434d0f",
   "metadata": {},
   "outputs": [
    {
     "data": {
      "text/html": [
       "<table class=\"simpletable\">\n",
       "<caption>OLS Regression Results</caption>\n",
       "<tr>\n",
       "  <th>Dep. Variable:</th>           <td>pm</td>        <th>  R-squared:         </th>  <td>   0.241</td>  \n",
       "</tr>\n",
       "<tr>\n",
       "  <th>Model:</th>                   <td>OLS</td>       <th>  Adj. R-squared:    </th>  <td>   0.240</td>  \n",
       "</tr>\n",
       "<tr>\n",
       "  <th>Method:</th>             <td>Least Squares</td>  <th>  F-statistic:       </th>  <td>   1763.</td>  \n",
       "</tr>\n",
       "<tr>\n",
       "  <th>Date:</th>             <td>Tue, 13 Sep 2022</td> <th>  Prob (F-statistic):</th>   <td>  0.00</td>   \n",
       "</tr>\n",
       "<tr>\n",
       "  <th>Time:</th>                 <td>09:40:15</td>     <th>  Log-Likelihood:    </th> <td>-1.9386e+05</td>\n",
       "</tr>\n",
       "<tr>\n",
       "  <th>No. Observations:</th>      <td> 33405</td>      <th>  AIC:               </th>  <td>3.877e+05</td> \n",
       "</tr>\n",
       "<tr>\n",
       "  <th>Df Residuals:</th>          <td> 33398</td>      <th>  BIC:               </th>  <td>3.878e+05</td> \n",
       "</tr>\n",
       "<tr>\n",
       "  <th>Df Model:</th>              <td>     6</td>      <th>                     </th>      <td> </td>     \n",
       "</tr>\n",
       "<tr>\n",
       "  <th>Covariance Type:</th>      <td>nonrobust</td>    <th>                     </th>      <td> </td>     \n",
       "</tr>\n",
       "</table>\n",
       "<table class=\"simpletable\">\n",
       "<tr>\n",
       "       <td></td>         <th>coef</th>     <th>std err</th>      <th>t</th>      <th>P>|t|</th>  <th>[0.025</th>    <th>0.975]</th>  \n",
       "</tr>\n",
       "<tr>\n",
       "  <th>Intercept</th>  <td>  144.3116</td> <td>    1.461</td> <td>   98.763</td> <td> 0.000</td> <td>  141.448</td> <td>  147.176</td>\n",
       "</tr>\n",
       "<tr>\n",
       "  <th>cbwd[T.NW]</th> <td>   -1.4156</td> <td>    1.573</td> <td>   -0.900</td> <td> 0.368</td> <td>   -4.498</td> <td>    1.667</td>\n",
       "</tr>\n",
       "<tr>\n",
       "  <th>cbwd[T.SE]</th> <td>   32.9155</td> <td>    1.533</td> <td>   21.468</td> <td> 0.000</td> <td>   29.910</td> <td>   35.921</td>\n",
       "</tr>\n",
       "<tr>\n",
       "  <th>cbwd[T.cv]</th> <td>   29.1496</td> <td>    1.620</td> <td>   17.994</td> <td> 0.000</td> <td>   25.974</td> <td>   32.325</td>\n",
       "</tr>\n",
       "<tr>\n",
       "  <th>Iws</th>        <td>   -0.2148</td> <td>    0.010</td> <td>  -21.776</td> <td> 0.000</td> <td>   -0.234</td> <td>   -0.195</td>\n",
       "</tr>\n",
       "<tr>\n",
       "  <th>TEMP</th>       <td>   -5.2602</td> <td>    0.065</td> <td>  -80.831</td> <td> 0.000</td> <td>   -5.388</td> <td>   -5.133</td>\n",
       "</tr>\n",
       "<tr>\n",
       "  <th>DEWP</th>       <td>    4.1367</td> <td>    0.057</td> <td>   72.908</td> <td> 0.000</td> <td>    4.025</td> <td>    4.248</td>\n",
       "</tr>\n",
       "</table>\n",
       "<table class=\"simpletable\">\n",
       "<tr>\n",
       "  <th>Omnibus:</th>       <td>12830.156</td> <th>  Durbin-Watson:     </th> <td>   1.999</td> \n",
       "</tr>\n",
       "<tr>\n",
       "  <th>Prob(Omnibus):</th>  <td> 0.000</td>   <th>  Jarque-Bera (JB):  </th> <td>68746.499</td>\n",
       "</tr>\n",
       "<tr>\n",
       "  <th>Skew:</th>           <td> 1.782</td>   <th>  Prob(JB):          </th> <td>    0.00</td> \n",
       "</tr>\n",
       "<tr>\n",
       "  <th>Kurtosis:</th>       <td> 9.057</td>   <th>  Cond. No.          </th> <td>    345.</td> \n",
       "</tr>\n",
       "</table><br/><br/>Notes:<br/>[1] Standard Errors assume that the covariance matrix of the errors is correctly specified."
      ],
      "text/plain": [
       "<class 'statsmodels.iolib.summary.Summary'>\n",
       "\"\"\"\n",
       "                            OLS Regression Results                            \n",
       "==============================================================================\n",
       "Dep. Variable:                     pm   R-squared:                       0.241\n",
       "Model:                            OLS   Adj. R-squared:                  0.240\n",
       "Method:                 Least Squares   F-statistic:                     1763.\n",
       "Date:                Tue, 13 Sep 2022   Prob (F-statistic):               0.00\n",
       "Time:                        09:40:15   Log-Likelihood:            -1.9386e+05\n",
       "No. Observations:               33405   AIC:                         3.877e+05\n",
       "Df Residuals:                   33398   BIC:                         3.878e+05\n",
       "Df Model:                           6                                         \n",
       "Covariance Type:            nonrobust                                         \n",
       "==============================================================================\n",
       "                 coef    std err          t      P>|t|      [0.025      0.975]\n",
       "------------------------------------------------------------------------------\n",
       "Intercept    144.3116      1.461     98.763      0.000     141.448     147.176\n",
       "cbwd[T.NW]    -1.4156      1.573     -0.900      0.368      -4.498       1.667\n",
       "cbwd[T.SE]    32.9155      1.533     21.468      0.000      29.910      35.921\n",
       "cbwd[T.cv]    29.1496      1.620     17.994      0.000      25.974      32.325\n",
       "Iws           -0.2148      0.010    -21.776      0.000      -0.234      -0.195\n",
       "TEMP          -5.2602      0.065    -80.831      0.000      -5.388      -5.133\n",
       "DEWP           4.1367      0.057     72.908      0.000       4.025       4.248\n",
       "==============================================================================\n",
       "Omnibus:                    12830.156   Durbin-Watson:                   1.999\n",
       "Prob(Omnibus):                  0.000   Jarque-Bera (JB):            68746.499\n",
       "Skew:                           1.782   Prob(JB):                         0.00\n",
       "Kurtosis:                       9.057   Cond. No.                         345.\n",
       "==============================================================================\n",
       "\n",
       "Notes:\n",
       "[1] Standard Errors assume that the covariance matrix of the errors is correctly specified.\n",
       "\"\"\""
      ]
     },
     "execution_count": 31,
     "metadata": {},
     "output_type": "execute_result"
    }
   ],
   "source": [
    "train4 = smf.ols(formula='pm ~ Iws+cbwd+TEMP+DEWP', data=X_train).fit()\n",
    "train4.summary()"
   ]
  },
  {
   "cell_type": "markdown",
   "id": "3dd749d7",
   "metadata": {},
   "source": [
    "l use the forward stepwise selection method to create more accurate predictors for pm2.5. Conduct the algorithm for feature = 1, my best solution is Iws.  Conduct the algorithm for features up to 4  , my best solution is Iws+cbwd+TEMP+DEWP. The result is the same as the previous answer which is based on adjusted R squared. "
   ]
  },
  {
   "cell_type": "markdown",
   "id": "4d4041f2",
   "metadata": {},
   "source": [
    "## 3.5 Multi-linear"
   ]
  },
  {
   "cell_type": "markdown",
   "id": "f6679ff2",
   "metadata": {},
   "source": [
    "### 3.5.1 Construct a multi-linear model without interaction terms"
   ]
  },
  {
   "cell_type": "markdown",
   "id": "bc087507",
   "metadata": {},
   "source": [
    "Construct a multi-linear model without interaction terms predicting the pm column on the other three top feature in training dataset."
   ]
  },
  {
   "cell_type": "code",
   "execution_count": 32,
   "id": "6d4d7a5b",
   "metadata": {},
   "outputs": [
    {
     "data": {
      "text/html": [
       "<table class=\"simpletable\">\n",
       "<caption>OLS Regression Results</caption>\n",
       "<tr>\n",
       "  <th>Dep. Variable:</th>           <td>pm</td>        <th>  R-squared:         </th>  <td>   0.241</td>  \n",
       "</tr>\n",
       "<tr>\n",
       "  <th>Model:</th>                   <td>OLS</td>       <th>  Adj. R-squared:    </th>  <td>   0.240</td>  \n",
       "</tr>\n",
       "<tr>\n",
       "  <th>Method:</th>             <td>Least Squares</td>  <th>  F-statistic:       </th>  <td>   1763.</td>  \n",
       "</tr>\n",
       "<tr>\n",
       "  <th>Date:</th>             <td>Tue, 13 Sep 2022</td> <th>  Prob (F-statistic):</th>   <td>  0.00</td>   \n",
       "</tr>\n",
       "<tr>\n",
       "  <th>Time:</th>                 <td>09:40:15</td>     <th>  Log-Likelihood:    </th> <td>-1.9386e+05</td>\n",
       "</tr>\n",
       "<tr>\n",
       "  <th>No. Observations:</th>      <td> 33405</td>      <th>  AIC:               </th>  <td>3.877e+05</td> \n",
       "</tr>\n",
       "<tr>\n",
       "  <th>Df Residuals:</th>          <td> 33398</td>      <th>  BIC:               </th>  <td>3.878e+05</td> \n",
       "</tr>\n",
       "<tr>\n",
       "  <th>Df Model:</th>              <td>     6</td>      <th>                     </th>      <td> </td>     \n",
       "</tr>\n",
       "<tr>\n",
       "  <th>Covariance Type:</th>      <td>nonrobust</td>    <th>                     </th>      <td> </td>     \n",
       "</tr>\n",
       "</table>\n",
       "<table class=\"simpletable\">\n",
       "<tr>\n",
       "       <td></td>         <th>coef</th>     <th>std err</th>      <th>t</th>      <th>P>|t|</th>  <th>[0.025</th>    <th>0.975]</th>  \n",
       "</tr>\n",
       "<tr>\n",
       "  <th>Intercept</th>  <td>  144.3116</td> <td>    1.461</td> <td>   98.763</td> <td> 0.000</td> <td>  141.448</td> <td>  147.176</td>\n",
       "</tr>\n",
       "<tr>\n",
       "  <th>cbwd[T.NW]</th> <td>   -1.4156</td> <td>    1.573</td> <td>   -0.900</td> <td> 0.368</td> <td>   -4.498</td> <td>    1.667</td>\n",
       "</tr>\n",
       "<tr>\n",
       "  <th>cbwd[T.SE]</th> <td>   32.9155</td> <td>    1.533</td> <td>   21.468</td> <td> 0.000</td> <td>   29.910</td> <td>   35.921</td>\n",
       "</tr>\n",
       "<tr>\n",
       "  <th>cbwd[T.cv]</th> <td>   29.1496</td> <td>    1.620</td> <td>   17.994</td> <td> 0.000</td> <td>   25.974</td> <td>   32.325</td>\n",
       "</tr>\n",
       "<tr>\n",
       "  <th>Iws</th>        <td>   -0.2148</td> <td>    0.010</td> <td>  -21.776</td> <td> 0.000</td> <td>   -0.234</td> <td>   -0.195</td>\n",
       "</tr>\n",
       "<tr>\n",
       "  <th>TEMP</th>       <td>   -5.2602</td> <td>    0.065</td> <td>  -80.831</td> <td> 0.000</td> <td>   -5.388</td> <td>   -5.133</td>\n",
       "</tr>\n",
       "<tr>\n",
       "  <th>DEWP</th>       <td>    4.1367</td> <td>    0.057</td> <td>   72.908</td> <td> 0.000</td> <td>    4.025</td> <td>    4.248</td>\n",
       "</tr>\n",
       "</table>\n",
       "<table class=\"simpletable\">\n",
       "<tr>\n",
       "  <th>Omnibus:</th>       <td>12830.156</td> <th>  Durbin-Watson:     </th> <td>   1.999</td> \n",
       "</tr>\n",
       "<tr>\n",
       "  <th>Prob(Omnibus):</th>  <td> 0.000</td>   <th>  Jarque-Bera (JB):  </th> <td>68746.499</td>\n",
       "</tr>\n",
       "<tr>\n",
       "  <th>Skew:</th>           <td> 1.782</td>   <th>  Prob(JB):          </th> <td>    0.00</td> \n",
       "</tr>\n",
       "<tr>\n",
       "  <th>Kurtosis:</th>       <td> 9.057</td>   <th>  Cond. No.          </th> <td>    345.</td> \n",
       "</tr>\n",
       "</table><br/><br/>Notes:<br/>[1] Standard Errors assume that the covariance matrix of the errors is correctly specified."
      ],
      "text/plain": [
       "<class 'statsmodels.iolib.summary.Summary'>\n",
       "\"\"\"\n",
       "                            OLS Regression Results                            \n",
       "==============================================================================\n",
       "Dep. Variable:                     pm   R-squared:                       0.241\n",
       "Model:                            OLS   Adj. R-squared:                  0.240\n",
       "Method:                 Least Squares   F-statistic:                     1763.\n",
       "Date:                Tue, 13 Sep 2022   Prob (F-statistic):               0.00\n",
       "Time:                        09:40:15   Log-Likelihood:            -1.9386e+05\n",
       "No. Observations:               33405   AIC:                         3.877e+05\n",
       "Df Residuals:                   33398   BIC:                         3.878e+05\n",
       "Df Model:                           6                                         \n",
       "Covariance Type:            nonrobust                                         \n",
       "==============================================================================\n",
       "                 coef    std err          t      P>|t|      [0.025      0.975]\n",
       "------------------------------------------------------------------------------\n",
       "Intercept    144.3116      1.461     98.763      0.000     141.448     147.176\n",
       "cbwd[T.NW]    -1.4156      1.573     -0.900      0.368      -4.498       1.667\n",
       "cbwd[T.SE]    32.9155      1.533     21.468      0.000      29.910      35.921\n",
       "cbwd[T.cv]    29.1496      1.620     17.994      0.000      25.974      32.325\n",
       "Iws           -0.2148      0.010    -21.776      0.000      -0.234      -0.195\n",
       "TEMP          -5.2602      0.065    -80.831      0.000      -5.388      -5.133\n",
       "DEWP           4.1367      0.057     72.908      0.000       4.025       4.248\n",
       "==============================================================================\n",
       "Omnibus:                    12830.156   Durbin-Watson:                   1.999\n",
       "Prob(Omnibus):                  0.000   Jarque-Bera (JB):            68746.499\n",
       "Skew:                           1.782   Prob(JB):                         0.00\n",
       "Kurtosis:                       9.057   Cond. No.                         345.\n",
       "==============================================================================\n",
       "\n",
       "Notes:\n",
       "[1] Standard Errors assume that the covariance matrix of the errors is correctly specified.\n",
       "\"\"\""
      ]
     },
     "execution_count": 32,
     "metadata": {},
     "output_type": "execute_result"
    }
   ],
   "source": [
    "model1 = smf.ols(formula='pm ~ Iws + cbwd + TEMP + DEWP', data=X_train).fit()\n",
    "model1.summary()"
   ]
  },
  {
   "cell_type": "markdown",
   "id": "1dc07592",
   "metadata": {},
   "source": [
    "### 3.5.2 Construct a multi-linear model with interaction terms"
   ]
  },
  {
   "cell_type": "code",
   "execution_count": 116,
   "id": "30c1c133",
   "metadata": {},
   "outputs": [
    {
     "data": {
      "text/html": [
       "<table class=\"simpletable\">\n",
       "<caption>OLS Regression Results</caption>\n",
       "<tr>\n",
       "  <th>Dep. Variable:</th>           <td>pm</td>        <th>  R-squared:         </th>  <td>   0.273</td>  \n",
       "</tr>\n",
       "<tr>\n",
       "  <th>Model:</th>                   <td>OLS</td>       <th>  Adj. R-squared:    </th>  <td>   0.273</td>  \n",
       "</tr>\n",
       "<tr>\n",
       "  <th>Method:</th>             <td>Least Squares</td>  <th>  F-statistic:       </th>  <td>   698.1</td>  \n",
       "</tr>\n",
       "<tr>\n",
       "  <th>Date:</th>             <td>Tue, 13 Sep 2022</td> <th>  Prob (F-statistic):</th>   <td>  0.00</td>   \n",
       "</tr>\n",
       "<tr>\n",
       "  <th>Time:</th>                 <td>12:09:00</td>     <th>  Log-Likelihood:    </th> <td>-1.9312e+05</td>\n",
       "</tr>\n",
       "<tr>\n",
       "  <th>No. Observations:</th>      <td> 33405</td>      <th>  AIC:               </th>  <td>3.863e+05</td> \n",
       "</tr>\n",
       "<tr>\n",
       "  <th>Df Residuals:</th>          <td> 33386</td>      <th>  BIC:               </th>  <td>3.864e+05</td> \n",
       "</tr>\n",
       "<tr>\n",
       "  <th>Df Model:</th>              <td>    18</td>      <th>                     </th>      <td> </td>     \n",
       "</tr>\n",
       "<tr>\n",
       "  <th>Covariance Type:</th>      <td>nonrobust</td>    <th>                     </th>      <td> </td>     \n",
       "</tr>\n",
       "</table>\n",
       "<table class=\"simpletable\">\n",
       "<tr>\n",
       "         <td></td>            <th>coef</th>     <th>std err</th>      <th>t</th>      <th>P>|t|</th>  <th>[0.025</th>    <th>0.975]</th>  \n",
       "</tr>\n",
       "<tr>\n",
       "  <th>Intercept</th>       <td>  175.5191</td> <td>    2.456</td> <td>   71.462</td> <td> 0.000</td> <td>  170.705</td> <td>  180.333</td>\n",
       "</tr>\n",
       "<tr>\n",
       "  <th>cbwd[T.NW]</th>      <td>   -8.2981</td> <td>    2.803</td> <td>   -2.960</td> <td> 0.003</td> <td>  -13.793</td> <td>   -2.804</td>\n",
       "</tr>\n",
       "<tr>\n",
       "  <th>cbwd[T.SE]</th>      <td>   11.0342</td> <td>    2.952</td> <td>    3.737</td> <td> 0.000</td> <td>    5.247</td> <td>   16.821</td>\n",
       "</tr>\n",
       "<tr>\n",
       "  <th>cbwd[T.cv]</th>      <td>   24.5442</td> <td>    2.947</td> <td>    8.330</td> <td> 0.000</td> <td>   18.769</td> <td>   30.320</td>\n",
       "</tr>\n",
       "<tr>\n",
       "  <th>Iws</th>             <td>   -1.2441</td> <td>    0.097</td> <td>  -12.830</td> <td> 0.000</td> <td>   -1.434</td> <td>   -1.054</td>\n",
       "</tr>\n",
       "<tr>\n",
       "  <th>Iws:cbwd[T.NW]</th>  <td>    0.6572</td> <td>    0.094</td> <td>    6.956</td> <td> 0.000</td> <td>    0.472</td> <td>    0.842</td>\n",
       "</tr>\n",
       "<tr>\n",
       "  <th>Iws:cbwd[T.SE]</th>  <td>    0.5997</td> <td>    0.103</td> <td>    5.847</td> <td> 0.000</td> <td>    0.399</td> <td>    0.801</td>\n",
       "</tr>\n",
       "<tr>\n",
       "  <th>Iws:cbwd[T.cv]</th>  <td>    0.3617</td> <td>    0.208</td> <td>    1.736</td> <td> 0.083</td> <td>   -0.047</td> <td>    0.770</td>\n",
       "</tr>\n",
       "<tr>\n",
       "  <th>TEMP</th>            <td>   -6.4213</td> <td>    0.200</td> <td>  -32.175</td> <td> 0.000</td> <td>   -6.812</td> <td>   -6.030</td>\n",
       "</tr>\n",
       "<tr>\n",
       "  <th>cbwd[T.NW]:TEMP</th> <td>   -0.1721</td> <td>    0.230</td> <td>   -0.747</td> <td> 0.455</td> <td>   -0.624</td> <td>    0.280</td>\n",
       "</tr>\n",
       "<tr>\n",
       "  <th>cbwd[T.SE]:TEMP</th> <td>    1.3186</td> <td>    0.229</td> <td>    5.767</td> <td> 0.000</td> <td>    0.870</td> <td>    1.767</td>\n",
       "</tr>\n",
       "<tr>\n",
       "  <th>cbwd[T.cv]:TEMP</th> <td>   -0.2511</td> <td>    0.251</td> <td>   -1.000</td> <td> 0.318</td> <td>   -0.744</td> <td>    0.241</td>\n",
       "</tr>\n",
       "<tr>\n",
       "  <th>DEWP</th>            <td>    6.2287</td> <td>    0.172</td> <td>   36.150</td> <td> 0.000</td> <td>    5.891</td> <td>    6.566</td>\n",
       "</tr>\n",
       "<tr>\n",
       "  <th>cbwd[T.NW]:DEWP</th> <td>   -0.3924</td> <td>    0.194</td> <td>   -2.027</td> <td> 0.043</td> <td>   -0.772</td> <td>   -0.013</td>\n",
       "</tr>\n",
       "<tr>\n",
       "  <th>cbwd[T.SE]:DEWP</th> <td>   -0.3015</td> <td>    0.194</td> <td>   -1.553</td> <td> 0.120</td> <td>   -0.682</td> <td>    0.079</td>\n",
       "</tr>\n",
       "<tr>\n",
       "  <th>cbwd[T.cv]:DEWP</th> <td>   -0.0607</td> <td>    0.214</td> <td>   -0.284</td> <td> 0.777</td> <td>   -0.480</td> <td>    0.359</td>\n",
       "</tr>\n",
       "<tr>\n",
       "  <th>Iws:TEMP</th>        <td>    0.0268</td> <td>    0.001</td> <td>   18.155</td> <td> 0.000</td> <td>    0.024</td> <td>    0.030</td>\n",
       "</tr>\n",
       "<tr>\n",
       "  <th>Iws:DEWP</th>        <td>   -0.0224</td> <td>    0.001</td> <td>  -15.676</td> <td> 0.000</td> <td>   -0.025</td> <td>   -0.020</td>\n",
       "</tr>\n",
       "<tr>\n",
       "  <th>TEMP:DEWP</th>       <td>   -0.0941</td> <td>    0.004</td> <td>  -26.567</td> <td> 0.000</td> <td>   -0.101</td> <td>   -0.087</td>\n",
       "</tr>\n",
       "</table>\n",
       "<table class=\"simpletable\">\n",
       "<tr>\n",
       "  <th>Omnibus:</th>       <td>12523.767</td> <th>  Durbin-Watson:     </th> <td>   2.000</td> \n",
       "</tr>\n",
       "<tr>\n",
       "  <th>Prob(Omnibus):</th>  <td> 0.000</td>   <th>  Jarque-Bera (JB):  </th> <td>70577.272</td>\n",
       "</tr>\n",
       "<tr>\n",
       "  <th>Skew:</th>           <td> 1.713</td>   <th>  Prob(JB):          </th> <td>    0.00</td> \n",
       "</tr>\n",
       "<tr>\n",
       "  <th>Kurtosis:</th>       <td> 9.242</td>   <th>  Cond. No.          </th> <td>1.16e+04</td> \n",
       "</tr>\n",
       "</table><br/><br/>Notes:<br/>[1] Standard Errors assume that the covariance matrix of the errors is correctly specified.<br/>[2] The condition number is large, 1.16e+04. This might indicate that there are<br/>strong multicollinearity or other numerical problems."
      ],
      "text/plain": [
       "<class 'statsmodels.iolib.summary.Summary'>\n",
       "\"\"\"\n",
       "                            OLS Regression Results                            \n",
       "==============================================================================\n",
       "Dep. Variable:                     pm   R-squared:                       0.273\n",
       "Model:                            OLS   Adj. R-squared:                  0.273\n",
       "Method:                 Least Squares   F-statistic:                     698.1\n",
       "Date:                Tue, 13 Sep 2022   Prob (F-statistic):               0.00\n",
       "Time:                        12:09:00   Log-Likelihood:            -1.9312e+05\n",
       "No. Observations:               33405   AIC:                         3.863e+05\n",
       "Df Residuals:                   33386   BIC:                         3.864e+05\n",
       "Df Model:                          18                                         \n",
       "Covariance Type:            nonrobust                                         \n",
       "===================================================================================\n",
       "                      coef    std err          t      P>|t|      [0.025      0.975]\n",
       "-----------------------------------------------------------------------------------\n",
       "Intercept         175.5191      2.456     71.462      0.000     170.705     180.333\n",
       "cbwd[T.NW]         -8.2981      2.803     -2.960      0.003     -13.793      -2.804\n",
       "cbwd[T.SE]         11.0342      2.952      3.737      0.000       5.247      16.821\n",
       "cbwd[T.cv]         24.5442      2.947      8.330      0.000      18.769      30.320\n",
       "Iws                -1.2441      0.097    -12.830      0.000      -1.434      -1.054\n",
       "Iws:cbwd[T.NW]      0.6572      0.094      6.956      0.000       0.472       0.842\n",
       "Iws:cbwd[T.SE]      0.5997      0.103      5.847      0.000       0.399       0.801\n",
       "Iws:cbwd[T.cv]      0.3617      0.208      1.736      0.083      -0.047       0.770\n",
       "TEMP               -6.4213      0.200    -32.175      0.000      -6.812      -6.030\n",
       "cbwd[T.NW]:TEMP    -0.1721      0.230     -0.747      0.455      -0.624       0.280\n",
       "cbwd[T.SE]:TEMP     1.3186      0.229      5.767      0.000       0.870       1.767\n",
       "cbwd[T.cv]:TEMP    -0.2511      0.251     -1.000      0.318      -0.744       0.241\n",
       "DEWP                6.2287      0.172     36.150      0.000       5.891       6.566\n",
       "cbwd[T.NW]:DEWP    -0.3924      0.194     -2.027      0.043      -0.772      -0.013\n",
       "cbwd[T.SE]:DEWP    -0.3015      0.194     -1.553      0.120      -0.682       0.079\n",
       "cbwd[T.cv]:DEWP    -0.0607      0.214     -0.284      0.777      -0.480       0.359\n",
       "Iws:TEMP            0.0268      0.001     18.155      0.000       0.024       0.030\n",
       "Iws:DEWP           -0.0224      0.001    -15.676      0.000      -0.025      -0.020\n",
       "TEMP:DEWP          -0.0941      0.004    -26.567      0.000      -0.101      -0.087\n",
       "==============================================================================\n",
       "Omnibus:                    12523.767   Durbin-Watson:                   2.000\n",
       "Prob(Omnibus):                  0.000   Jarque-Bera (JB):            70577.272\n",
       "Skew:                           1.713   Prob(JB):                         0.00\n",
       "Kurtosis:                       9.242   Cond. No.                     1.16e+04\n",
       "==============================================================================\n",
       "\n",
       "Notes:\n",
       "[1] Standard Errors assume that the covariance matrix of the errors is correctly specified.\n",
       "[2] The condition number is large, 1.16e+04. This might indicate that there are\n",
       "strong multicollinearity or other numerical problems.\n",
       "\"\"\""
      ]
     },
     "execution_count": 116,
     "metadata": {},
     "output_type": "execute_result"
    }
   ],
   "source": [
    "model2 = smf.ols(formula='pm ~ Iws + cbwd + TEMP + DEWP + Iws:cbwd + Iws:TEMP + Iws:DEWP + cbwd:TEMP + cbwd:DEWP + TEMP:DEWP', data=X_train).fit()\n",
    "model2.summary()"
   ]
  },
  {
   "cell_type": "code",
   "execution_count": 118,
   "id": "adda2db4",
   "metadata": {},
   "outputs": [
    {
     "data": {
      "text/html": [
       "<table class=\"simpletable\">\n",
       "<caption>OLS Regression Results</caption>\n",
       "<tr>\n",
       "  <th>Dep. Variable:</th>           <td>pm</td>        <th>  R-squared:         </th>  <td>   0.267</td>  \n",
       "</tr>\n",
       "<tr>\n",
       "  <th>Model:</th>                   <td>OLS</td>       <th>  Adj. R-squared:    </th>  <td>   0.267</td>  \n",
       "</tr>\n",
       "<tr>\n",
       "  <th>Method:</th>             <td>Least Squares</td>  <th>  F-statistic:       </th>  <td>   1014.</td>  \n",
       "</tr>\n",
       "<tr>\n",
       "  <th>Date:</th>             <td>Tue, 13 Sep 2022</td> <th>  Prob (F-statistic):</th>   <td>  0.00</td>   \n",
       "</tr>\n",
       "<tr>\n",
       "  <th>Time:</th>                 <td>12:17:42</td>     <th>  Log-Likelihood:    </th> <td>-1.9326e+05</td>\n",
       "</tr>\n",
       "<tr>\n",
       "  <th>No. Observations:</th>      <td> 33405</td>      <th>  AIC:               </th>  <td>3.866e+05</td> \n",
       "</tr>\n",
       "<tr>\n",
       "  <th>Df Residuals:</th>          <td> 33392</td>      <th>  BIC:               </th>  <td>3.867e+05</td> \n",
       "</tr>\n",
       "<tr>\n",
       "  <th>Df Model:</th>              <td>    12</td>      <th>                     </th>      <td> </td>     \n",
       "</tr>\n",
       "<tr>\n",
       "  <th>Covariance Type:</th>      <td>nonrobust</td>    <th>                     </th>      <td> </td>     \n",
       "</tr>\n",
       "</table>\n",
       "<table class=\"simpletable\">\n",
       "<tr>\n",
       "         <td></td>           <th>coef</th>     <th>std err</th>      <th>t</th>      <th>P>|t|</th>  <th>[0.025</th>    <th>0.975]</th>  \n",
       "</tr>\n",
       "<tr>\n",
       "  <th>Intercept</th>      <td>  169.2036</td> <td>    1.670</td> <td>  101.348</td> <td> 0.000</td> <td>  165.931</td> <td>  172.476</td>\n",
       "</tr>\n",
       "<tr>\n",
       "  <th>cbwd[T.NW]</th>     <td>   -9.4619</td> <td>    1.729</td> <td>   -5.473</td> <td> 0.000</td> <td>  -12.851</td> <td>   -6.073</td>\n",
       "</tr>\n",
       "<tr>\n",
       "  <th>cbwd[T.SE]</th>     <td>   30.0964</td> <td>    1.765</td> <td>   17.056</td> <td> 0.000</td> <td>   26.638</td> <td>   33.555</td>\n",
       "</tr>\n",
       "<tr>\n",
       "  <th>cbwd[T.cv]</th>     <td>   21.4810</td> <td>    1.776</td> <td>   12.098</td> <td> 0.000</td> <td>   18.001</td> <td>   24.961</td>\n",
       "</tr>\n",
       "<tr>\n",
       "  <th>Iws</th>            <td>   -1.3235</td> <td>    0.090</td> <td>  -14.632</td> <td> 0.000</td> <td>   -1.501</td> <td>   -1.146</td>\n",
       "</tr>\n",
       "<tr>\n",
       "  <th>Iws:cbwd[T.NW]</th> <td>    0.7529</td> <td>    0.088</td> <td>    8.508</td> <td> 0.000</td> <td>    0.579</td> <td>    0.926</td>\n",
       "</tr>\n",
       "<tr>\n",
       "  <th>Iws:cbwd[T.SE]</th> <td>    0.7013</td> <td>    0.097</td> <td>    7.258</td> <td> 0.000</td> <td>    0.512</td> <td>    0.891</td>\n",
       "</tr>\n",
       "<tr>\n",
       "  <th>Iws:cbwd[T.cv]</th> <td>    0.4336</td> <td>    0.206</td> <td>    2.107</td> <td> 0.035</td> <td>    0.030</td> <td>    0.837</td>\n",
       "</tr>\n",
       "<tr>\n",
       "  <th>TEMP</th>           <td>   -6.0371</td> <td>    0.072</td> <td>  -83.324</td> <td> 0.000</td> <td>   -6.179</td> <td>   -5.895</td>\n",
       "</tr>\n",
       "<tr>\n",
       "  <th>DEWP</th>           <td>    5.6882</td> <td>    0.077</td> <td>   73.579</td> <td> 0.000</td> <td>    5.537</td> <td>    5.840</td>\n",
       "</tr>\n",
       "<tr>\n",
       "  <th>Iws:TEMP</th>       <td>    0.0269</td> <td>    0.001</td> <td>   19.422</td> <td> 0.000</td> <td>    0.024</td> <td>    0.030</td>\n",
       "</tr>\n",
       "<tr>\n",
       "  <th>Iws:DEWP</th>       <td>   -0.0223</td> <td>    0.001</td> <td>  -16.209</td> <td> 0.000</td> <td>   -0.025</td> <td>   -0.020</td>\n",
       "</tr>\n",
       "<tr>\n",
       "  <th>TEMP:DEWP</th>      <td>   -0.0741</td> <td>    0.003</td> <td>  -22.911</td> <td> 0.000</td> <td>   -0.080</td> <td>   -0.068</td>\n",
       "</tr>\n",
       "</table>\n",
       "<table class=\"simpletable\">\n",
       "<tr>\n",
       "  <th>Omnibus:</th>       <td>12584.632</td> <th>  Durbin-Watson:     </th> <td>   2.002</td> \n",
       "</tr>\n",
       "<tr>\n",
       "  <th>Prob(Omnibus):</th>  <td> 0.000</td>   <th>  Jarque-Bera (JB):  </th> <td>70713.766</td>\n",
       "</tr>\n",
       "<tr>\n",
       "  <th>Skew:</th>           <td> 1.724</td>   <th>  Prob(JB):          </th> <td>    0.00</td> \n",
       "</tr>\n",
       "<tr>\n",
       "  <th>Kurtosis:</th>       <td> 9.238</td>   <th>  Cond. No.          </th> <td>7.02e+03</td> \n",
       "</tr>\n",
       "</table><br/><br/>Notes:<br/>[1] Standard Errors assume that the covariance matrix of the errors is correctly specified.<br/>[2] The condition number is large, 7.02e+03. This might indicate that there are<br/>strong multicollinearity or other numerical problems."
      ],
      "text/plain": [
       "<class 'statsmodels.iolib.summary.Summary'>\n",
       "\"\"\"\n",
       "                            OLS Regression Results                            \n",
       "==============================================================================\n",
       "Dep. Variable:                     pm   R-squared:                       0.267\n",
       "Model:                            OLS   Adj. R-squared:                  0.267\n",
       "Method:                 Least Squares   F-statistic:                     1014.\n",
       "Date:                Tue, 13 Sep 2022   Prob (F-statistic):               0.00\n",
       "Time:                        12:17:42   Log-Likelihood:            -1.9326e+05\n",
       "No. Observations:               33405   AIC:                         3.866e+05\n",
       "Df Residuals:                   33392   BIC:                         3.867e+05\n",
       "Df Model:                          12                                         \n",
       "Covariance Type:            nonrobust                                         \n",
       "==================================================================================\n",
       "                     coef    std err          t      P>|t|      [0.025      0.975]\n",
       "----------------------------------------------------------------------------------\n",
       "Intercept        169.2036      1.670    101.348      0.000     165.931     172.476\n",
       "cbwd[T.NW]        -9.4619      1.729     -5.473      0.000     -12.851      -6.073\n",
       "cbwd[T.SE]        30.0964      1.765     17.056      0.000      26.638      33.555\n",
       "cbwd[T.cv]        21.4810      1.776     12.098      0.000      18.001      24.961\n",
       "Iws               -1.3235      0.090    -14.632      0.000      -1.501      -1.146\n",
       "Iws:cbwd[T.NW]     0.7529      0.088      8.508      0.000       0.579       0.926\n",
       "Iws:cbwd[T.SE]     0.7013      0.097      7.258      0.000       0.512       0.891\n",
       "Iws:cbwd[T.cv]     0.4336      0.206      2.107      0.035       0.030       0.837\n",
       "TEMP              -6.0371      0.072    -83.324      0.000      -6.179      -5.895\n",
       "DEWP               5.6882      0.077     73.579      0.000       5.537       5.840\n",
       "Iws:TEMP           0.0269      0.001     19.422      0.000       0.024       0.030\n",
       "Iws:DEWP          -0.0223      0.001    -16.209      0.000      -0.025      -0.020\n",
       "TEMP:DEWP         -0.0741      0.003    -22.911      0.000      -0.080      -0.068\n",
       "==============================================================================\n",
       "Omnibus:                    12584.632   Durbin-Watson:                   2.002\n",
       "Prob(Omnibus):                  0.000   Jarque-Bera (JB):            70713.766\n",
       "Skew:                           1.724   Prob(JB):                         0.00\n",
       "Kurtosis:                       9.238   Cond. No.                     7.02e+03\n",
       "==============================================================================\n",
       "\n",
       "Notes:\n",
       "[1] Standard Errors assume that the covariance matrix of the errors is correctly specified.\n",
       "[2] The condition number is large, 7.02e+03. This might indicate that there are\n",
       "strong multicollinearity or other numerical problems.\n",
       "\"\"\""
      ]
     },
     "execution_count": 118,
     "metadata": {},
     "output_type": "execute_result"
    }
   ],
   "source": [
    "model3 = smf.ols(formula='pm ~ Iws + cbwd + TEMP + DEWP  + Iws:cbwd + Iws:TEMP + Iws:DEWP  + TEMP:DEWP', data=X_train).fit()\n",
    "model3.summary()"
   ]
  },
  {
   "cell_type": "markdown",
   "id": "59a02c5e",
   "metadata": {},
   "source": [
    "I construct a multi-linear model without interaction named model1, then construct a full multi-linear model with interactions named model 3 which are statistically significant at the p=0.05 level. When the p value is larger than threshold, I remove this interaction, so I get the final model3, its adjusted r squared value is larger than model1, and all p values are significant."
   ]
  },
  {
   "cell_type": "markdown",
   "id": "10ef5556",
   "metadata": {},
   "source": [
    "# 3.6 Prediction function"
   ]
  },
  {
   "cell_type": "markdown",
   "id": "d9d042cf",
   "metadata": {},
   "source": [
    "Predicting model1(multi-linear model without interaction terms) and model3(multi-linear model with interaction terms) in testing dataset, and calculate the mean squared prediction error to compare to which model is better."
   ]
  },
  {
   "cell_type": "code",
   "execution_count": 35,
   "id": "c38069aa",
   "metadata": {},
   "outputs": [
    {
     "data": {
      "text/plain": [
       "6391.396393676956"
      ]
     },
     "execution_count": 35,
     "metadata": {},
     "output_type": "execute_result"
    }
   ],
   "source": [
    "MSPE_model1 = np.mean((y_test['pm']-model1.predict(X_test))**2)\n",
    "MSPE_model1"
   ]
  },
  {
   "cell_type": "code",
   "execution_count": 36,
   "id": "436b3ca6",
   "metadata": {},
   "outputs": [
    {
     "data": {
      "text/plain": [
       "6240.530754787687"
      ]
     },
     "execution_count": 36,
     "metadata": {},
     "output_type": "execute_result"
    }
   ],
   "source": [
    "MSPE_model3 = np.mean((y_test['pm']-model3.predict(X_test))**2)\n",
    "MSPE_model3"
   ]
  },
  {
   "cell_type": "markdown",
   "id": "4acbc51d",
   "metadata": {},
   "source": [
    "I calculate the mean squared prediction error to compare to which model is better. the MSPE of model3 is smaller than model1, it indicates the model 3 is better than model1."
   ]
  },
  {
   "cell_type": "markdown",
   "id": "ed772e4c",
   "metadata": {},
   "source": [
    "# 4 Results and Analysis"
   ]
  },
  {
   "cell_type": "markdown",
   "id": "1f131fcd",
   "metadata": {},
   "source": [
    "1. I am studying Beijing PM2.5 dataset in UCI machine learning repository, this dataset coverd the pm2.5 data of US embassy in Beijing from 2010 to 2014, the amount PM2.5 concentration is the highest in 2013 which is 882660."
   ]
  },
  {
   "cell_type": "markdown",
   "id": "ee197fbe",
   "metadata": {},
   "source": [
    "| Year | pm2.5 |\n",
    "| --- | --- | \n",
    "| 2010 | 841834.0 | \n",
    "| 2011 | 795741.0 | \n",
    "| 2012 | 751078.0 |\n",
    "| 2013 | 882660.0 |\n",
    "| 2014 | 846479.0 |"
   ]
  },
  {
   "cell_type": "markdown",
   "id": "ac241671",
   "metadata": {},
   "source": [
    "2.Next I studied the pm2.5 monthly changes from 2010 to 2014. The figure shows that PM2.5 tends to be higher in the winter months (October to February) for each year.  This was expected due to the winter heating."
   ]
  },
  {
   "cell_type": "code",
   "execution_count": 109,
   "id": "0317cba0",
   "metadata": {},
   "outputs": [],
   "source": [
    "y1 = list(df2010.groupby('month').sum()['pm'])\n",
    "y2 = list(df2011.groupby('month').sum()['pm'])\n",
    "y3 = list(df2012.groupby('month').sum()['pm'])\n",
    "y4 = list(df2013.groupby('month').sum()['pm'])\n",
    "y5 = list(df2014.groupby('month').sum()['pm'])"
   ]
  },
  {
   "cell_type": "markdown",
   "id": "42e137cd",
   "metadata": {},
   "source": [
    "|  Year\\Month | Jan | Feb | Mar | Apr | May | Jun | Jul | Aug | Spe | Oct | Nov | Dec |\n",
    "| --- | --- | --- | --- | --- | --- | --- | --- | --- | --- | --- | --- | --- |\n",
    "| 2010 | 59059.0  | 65244.0 | 66717.0 | 57461.0 | 64045.0 | 61587.0 | 91994.0 | 65979.0 | 68501.0 | 89459.0 | 91712.0 | 72416.0 |\n"
   ]
  },
  {
   "cell_type": "code",
   "execution_count": 114,
   "id": "75b572e4",
   "metadata": {
    "scrolled": true
   },
   "outputs": [
    {
     "data": {
      "image/png": "[encoded data removed]",
      "text/plain": [
       "<Figure size 432x288 with 1 Axes>"
      ]
     },
     "metadata": {
      "needs_background": "light"
     },
     "output_type": "display_data"
    }
   ],
   "source": [
    "x = [1,2,3,4,5,6,7,8,9,10,11,12]\n",
    "plt.plot(x,y1,color='red',label='2010')\n",
    "plt.plot(x,y2,color='orange',label = '2011')\n",
    "plt.plot(x,y3,color='green',label = '2012')\n",
    "plt.plot(x,y4,color='purple',label = '2013')\n",
    "plt.plot(x,y5,color='blue',label = '2014')\n",
    "plt.title(\"PM2.5 concentration by month\")\n",
    "plt.xlabel(\"Month\")\n",
    "plt.ylabel(\"PM2.5 concentration\")\n",
    "plt.legend()\n",
    "plt.show()"
   ]
  },
  {
   "cell_type": "markdown",
   "id": "97d2df74",
   "metadata": {},
   "source": [
    "3. Three different methods to analyze the best predictors\n",
    "\n",
    "(1) The correlation coefficient values in this dataset, some variables have a negative correlation. Then I visualize the correlation coefficient matrix as a heatmap.\n",
    "\n",
    "(2) Get best predictors based on adjusted R squared in simple linear regression. Linear regression uses adjusted R squared as fit performance. I get the top four correlated features, which is Iws, cbwd, DEWP, TEMP.\n",
    "\n",
    "(3) Forward stepwise selection method to get best solution is Iws+cbwd+TEMP+DEWP. The result is the same as the previous answer which is based on adjusted R squared.  "
   ]
  },
  {
   "cell_type": "markdown",
   "id": "fb53348c",
   "metadata": {},
   "source": [
    "4. Construct a multi-linear regression model, identify interaction terms in the data. The statistically significant at the p=0.05 level. The final model I get is : model3 = smf.ols(formula='pm ~ Iws + cbwd + TEMP + DEWP  + Iws:cbwd + Iws:TEMP + Iws:DEWP  + TEMP:DEWP', data=X_train).fit(). Its adjusted r squared value is larger than model1,and all p values are significant."
   ]
  },
  {
   "cell_type": "markdown",
   "id": "1d66223b",
   "metadata": {},
   "source": [
    "5. Calculate the mean squared prediction error for each model to compare which model is better. the MSPE of model3 is smaller than model1, it indicates the model 3 is better than model1."
   ]
  },
  {
   "cell_type": "markdown",
   "id": "fbdb0563",
   "metadata": {},
   "source": [
    "# 5 Discussion and Conclusion"
   ]
  },
  {
   "cell_type": "markdown",
   "id": "79e0eae6",
   "metadata": {},
   "source": [
    "In this study, I practiced cleaning the data, used correlation coefficient matrix and heatmap to analyze data, I visualized the pm2.5 concentration yearly changes from 2010 to 2014, and monthly changes in each year,  the figure shows that PM2.5 tends to be higher in the winter months (October to February) for each year. this was expected due to the winter heating.Sources of PM2.5 can be coal-fired power generation, smoke, or dust.\n",
    "\n",
    "After selecting the best predictors, I get the top four features which are Iws, cbwd, DEWP, TEMP. Then I analyzed the interactions in multi-linear regression to get best model, although the adjusted R squared in the final model  is increased and all p values are significant and its mean squared prediction error is smaller than the previous model, this model is not such good because the adjusted R squared is 0.267 which is not good enough. A possible reason for this situation is because I did not have enough correlated data. In the future, I am going to find more relative pm2.5 pollution data. \n",
    "\n",
    "As we know, pm2.5 has an extremely bad influence on daily life, next step  I can study more relative models,  such as building air quality and pollution forecast models based on existing dataset,  people should get to know the air pollution level ahead and make a cautionary statement.\n",
    "\n",
    "\n"
   ]
  }
 ],
 "metadata": {
  "kernelspec": {
   "display_name": "Python 3",
   "language": "python",
   "name": "python3"
  },
  "language_info": {
   "codemirror_mode": {
    "name": "ipython",
    "version": 3
   },
   "file_extension": ".py",
   "mimetype": "text/x-python",
   "name": "python",
   "nbconvert_exporter": "python",
   "pygments_lexer": "ipython3",
   "version": "3.8.8"
  }
 },
 "nbformat": 4,
 "nbformat_minor": 5
}
